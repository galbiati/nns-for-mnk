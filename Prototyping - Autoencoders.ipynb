{
 "cells": [
  {
   "cell_type": "code",
   "execution_count": 1,
   "metadata": {
    "collapsed": true
   },
   "outputs": [],
   "source": [
    "# imports\n",
    "import os\n",
    "import imp\n",
    "import numpy as np\n",
    "import pandas as pd\n",
    "import theano\n",
    "import lasagne\n",
    "import loading\n",
    "from training import *\n",
    "from network import *\n",
    "from architectures import *\n",
    "import matplotlib.pyplot as plt\n",
    "import seaborn as sns\n",
    "from scipy.stats import bayes_mvs as bmvs\n",
    "\n",
    "%matplotlib inline\n",
    "\n",
    "# aliases\n",
    "L = lasagne.layers\n",
    "nl = lasagne.nonlinearities\n",
    "T = theano.tensor"
   ]
  },
  {
   "cell_type": "code",
   "execution_count": 9,
   "metadata": {
    "collapsed": false
   },
   "outputs": [],
   "source": [
    "# data loading\n",
    "headdir = os.path.expanduser('~/Google Drive/Bas Zahy Gianni - Games')\n",
    "paramsdir = os.path.join(headdir, 'Analysis/0_hvh/Params/nnets/temp')\n",
    "datadir = os.path.join(headdir, 'Data/model input')\n",
    "# datafile = os.path.join(headdir, 'Data/0_hvh/Clean/_summaries/model_input_with_groups.csv')\n",
    "resultsdir = os.path.join(headdir, 'Analysis/0_hvh/Loglik/nnets')\n",
    "# data = loading.default_loader(datafile)\n",
    "\n",
    "datafilenames = ['0 (with groups)', '1 (with computer)', '2 (with computer)', '3 (with computer)', '4']\n",
    "datafilenames = [os.path.join(datadir, fname + '.csv') for fname in datafilenames]\n",
    "colnames = ['subject', 'color', 'bp', 'wp', 'zet', 'rt']\n",
    "\n",
    "e0 = pd.read_csv(datafilenames[0], names=colnames+['splitno'])\n",
    "e1 = pd.read_csv(datafilenames[1], names=colnames)\n",
    "e2 = pd.read_csv(datafilenames[2], names=colnames)\n",
    "e3 = pd.read_csv(datafilenames[3], names=colnames+['task', 'taskorder', 'session'])\n",
    "e4 = pd.read_csv(datafilenames[4], names=colnames+['timecondition'])\n",
    "\n",
    "Es = [e1, e2, e3, e4]\n",
    "for i, e in enumerate(Es[1:]):\n",
    "    e['subject'] = e['subject'] + Es[i-1].loc[Es[i-1]['subject']<1000, 'subject'].max()\n",
    "\n",
    "A = pd.concat([e[colnames] for e in [e1, e2, e3, e4]])\n",
    "\n",
    "groups = np.arange(len(A))%5 + 1\n",
    "np.random.seed(100001)\n",
    "np.random.shuffle(groups)\n",
    "A['group'] = groups\n",
    "\n",
    "A.to_csv(os.path.join(datadir, '1-4.csv'), encoding='ASCII', header=False, index=False)\n",
    "A.loc[A['subject']<1000, :].to_csv(\n",
    "    os.path.join(datadir, '1-4 (no computer).csv'), \n",
    "    encoding='ASCII', header=False, index=False\n",
    ")"
   ]
  },
  {
   "cell_type": "code",
   "execution_count": 10,
   "metadata": {
    "collapsed": false
   },
   "outputs": [],
   "source": [
    "data = loading.default_loader(os.path.join(datadir, '1-4 (no computer).csv'))"
   ]
  },
  {
   "cell_type": "markdown",
   "metadata": {},
   "source": [
    "# Prototyping"
   ]
  },
  {
   "cell_type": "markdown",
   "metadata": {},
   "source": [
    "### Baseline CNN performance on Experiments 1-4"
   ]
  },
  {
   "cell_type": "code",
   "execution_count": null,
   "metadata": {
    "collapsed": false
   },
   "outputs": [
    {
     "name": "stdout",
     "output_type": "stream",
     "text": [
      "(12362, 2, 4, 9)\n",
      "Epoch 0 took 16.673s\n",
      "\ttraining loss:\t\t\t2.6981\n",
      "\tvalidation loss:\t\t2.5322\n",
      "\tvalidation accuracy:\t\t22.75%\n",
      "\ttotal time elapsed:\t\t16.945s\n",
      "Epoch 50 took 15.195s\n",
      "\ttraining loss:\t\t\t2.1220\n",
      "\tvalidation loss:\t\t1.9659\n",
      "\tvalidation accuracy:\t\t40.54%\n",
      "\ttotal time elapsed:\t\t795.825s\n",
      "Epoch 100 took 15.196s\n",
      "\ttraining loss:\t\t\t2.1086\n",
      "\tvalidation loss:\t\t1.9451\n",
      "\tvalidation accuracy:\t\t41.02%\n",
      "\ttotal time elapsed:\t\t1570.664s\n",
      "Epoch 150 took 15.346s\n",
      "\ttraining loss:\t\t\t2.0972\n",
      "\tvalidation loss:\t\t1.9463\n",
      "\tvalidation accuracy:\t\t41.43%\n",
      "\ttotal time elapsed:\t\t2364.337s\n",
      "Epoch 200 took 15.640s\n",
      "\ttraining loss:\t\t\t2.0945\n",
      "\tvalidation loss:\t\t1.9386\n",
      "\tvalidation accuracy:\t\t41.49%\n",
      "\ttotal time elapsed:\t\t3147.492s\n",
      "Abandon ship!\n",
      "TEST PERFORMANCE\n",
      "\tStopped in epoch:\t\t231\n",
      "\tTest loss:\t\t\t1.9396\n",
      "\tTest accuracy:\t\t\t41.59%\n",
      "(12396, 2, 4, 9)\n",
      "Epoch 0 took 16.167s\n",
      "\ttraining loss:\t\t\t2.6881\n",
      "\tvalidation loss:\t\t2.5109\n",
      "\tvalidation accuracy:\t\t24.21%\n",
      "\ttotal time elapsed:\t\t16.419s\n"
     ]
    }
   ],
   "source": [
    "def prototype(input_var=None):\n",
    "    input_shape = (None, 2, 4, 9)\n",
    "    FixLayer = make_FixLayer(input_var)\n",
    "\n",
    "    input_layer = L.InputLayer(shape=input_shape, input_var=input_var)\n",
    "    network = L.Conv2DLayer(\n",
    "        input_layer, num_filters=32, filter_size=(4,4), pad='full',\n",
    "        nonlinearity=nl.identity\n",
    "    )\n",
    "\n",
    "    network = L.ParametricRectifierLayer(network, shared_axes='auto') # default: auto\n",
    "    network = L.FeaturePoolLayer(network, pool_function=T.sum, pool_size=2) # default: T.sum, 2\n",
    "    network = L.DropoutLayer(network, p=.75) # default: .75\n",
    "    network = L.DenseLayer(\n",
    "        network, num_units=36,\n",
    "        nonlinearity=nl.very_leaky_rectify, W=lasagne.init.HeUniform(gain='relu')\n",
    "    )\n",
    "    network = FixLayer(network)\n",
    "    network = L.NonlinearityLayer(network, nonlinearity=nl.softmax)\n",
    "    network = FixLayer(network)\n",
    "    network = ReNormLayer(network)\n",
    "\n",
    "    return network\n",
    "\n",
    "trainer = DefaultTrainer(stopthresh=100) # default: 125\n",
    "net_list = trainer.train_all(architecture=prototype, data=data, seed=985227)\n",
    "\n",
    "for i, n in enumerate(net_list):\n",
    "    n.save_params(os.path.join(paramsdir, '{} split agg fit exp 1-4'.format(i)))"
   ]
  },
  {
   "cell_type": "code",
   "execution_count": null,
   "metadata": {
    "collapsed": true
   },
   "outputs": [],
   "source": []
  }
 ],
 "metadata": {
  "anaconda-cloud": {},
  "kernelspec": {
   "display_name": "Python [default]",
   "language": "python",
   "name": "python3"
  },
  "language_info": {
   "codemirror_mode": {
    "name": "ipython",
    "version": 3
   },
   "file_extension": ".py",
   "mimetype": "text/x-python",
   "name": "python",
   "nbconvert_exporter": "python",
   "pygments_lexer": "ipython3",
   "version": "3.5.2"
  }
 },
 "nbformat": 4,
 "nbformat_minor": 2
}
