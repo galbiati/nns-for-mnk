{
 "cells": [
  {
   "cell_type": "code",
   "execution_count": 1,
   "metadata": {
    "collapsed": true
   },
   "outputs": [],
   "source": [
    "# imports\n",
    "import os\n",
    "import imp\n",
    "import numpy as np\n",
    "import pandas as pd\n",
    "import theano\n",
    "import lasagne\n",
    "import loading\n",
    "from training import *\n",
    "from network import *\n",
    "from architectures import *\n",
    "import matplotlib.pyplot as plt\n",
    "import seaborn as sns\n",
    "from scipy.stats import bayes_mvs as bmvs\n",
    "\n",
    "%matplotlib inline\n",
    "\n",
    "# aliases\n",
    "L = lasagne.layers\n",
    "nl = lasagne.nonlinearities\n",
    "T = theano.tensor"
   ]
  },
  {
   "cell_type": "code",
   "execution_count": 9,
   "metadata": {
    "collapsed": false
   },
   "outputs": [],
   "source": [
    "# data loading\n",
    "headdir = os.path.expanduser('~/Google Drive/Bas Zahy Gianni - Games')\n",
    "paramsdir = os.path.join(headdir, 'Analysis/0_hvh/Params/nnets/temp')\n",
    "datadir = os.path.join(headdir, 'Data/model input')\n",
    "# datafile = os.path.join(headdir, 'Data/0_hvh/Clean/_summaries/model_input_with_groups.csv')\n",
    "resultsdir = os.path.join(headdir, 'Analysis/0_hvh/Loglik/nnets')\n",
    "# data = loading.default_loader(datafile)\n",
    "\n",
    "datafilenames = ['0 (with groups)', '1 (with computer)', '2 (with computer)', '3 (with computer)', '4']\n",
    "datafilenames = [os.path.join(datadir, fname + '.csv') for fname in datafilenames]\n",
    "colnames = ['subject', 'color', 'bp', 'wp', 'zet', 'rt']\n",
    "\n",
    "e0 = pd.read_csv(datafilenames[0], names=colnames+['splitno'])\n",
    "e1 = pd.read_csv(datafilenames[1], names=colnames)\n",
    "e2 = pd.read_csv(datafilenames[2], names=colnames)\n",
    "e3 = pd.read_csv(datafilenames[3], names=colnames+['task', 'taskorder', 'session'])\n",
    "e4 = pd.read_csv(datafilenames[4], names=colnames+['timecondition'])\n",
    "\n",
    "Es = [e1, e2, e3, e4]\n",
    "for i, e in enumerate(Es[1:]):\n",
    "    e['subject'] = e['subject'] + Es[i-1].loc[Es[i-1]['subject']<1000, 'subject'].max()\n",
    "\n",
    "A = pd.concat([e[colnames] for e in [e1, e2, e3, e4]])\n",
    "\n",
    "groups = np.arange(len(A))%5 + 1\n",
    "np.random.seed(100001)\n",
    "np.random.shuffle(groups)\n",
    "A['group'] = groups\n",
    "\n",
    "A.to_csv(os.path.join(datadir, '1-4.csv'), encoding='ASCII', header=False, index=False)\n",
    "A.loc[A['subject']<1000, :].to_csv(\n",
    "    os.path.join(datadir, '1-4 (no computer).csv'), \n",
    "    encoding='ASCII', header=False, index=False\n",
    ")"
   ]
  },
  {
   "cell_type": "code",
   "execution_count": 10,
   "metadata": {
    "collapsed": false
   },
   "outputs": [],
   "source": [
    "data = loading.default_loader(os.path.join(datadir, '1-4 (no computer).csv'))"
   ]
  },
  {
   "cell_type": "markdown",
   "metadata": {},
   "source": [
    "# Prototyping"
   ]
  },
  {
   "cell_type": "markdown",
   "metadata": {},
   "source": [
    "### Baseline CNN performance on Experiments 1-4"
   ]
  },
  {
   "cell_type": "code",
   "execution_count": 12,
   "metadata": {
    "collapsed": false,
    "scrolled": true
   },
   "outputs": [
    {
     "name": "stdout",
     "output_type": "stream",
     "text": [
      "(12362, 2, 4, 9)\n",
      "Epoch 0 took 16.673s\n",
      "\ttraining loss:\t\t\t2.6981\n",
      "\tvalidation loss:\t\t2.5322\n",
      "\tvalidation accuracy:\t\t22.75%\n",
      "\ttotal time elapsed:\t\t16.945s\n",
      "Epoch 50 took 15.195s\n",
      "\ttraining loss:\t\t\t2.1220\n",
      "\tvalidation loss:\t\t1.9659\n",
      "\tvalidation accuracy:\t\t40.54%\n",
      "\ttotal time elapsed:\t\t795.825s\n",
      "Epoch 100 took 15.196s\n",
      "\ttraining loss:\t\t\t2.1086\n",
      "\tvalidation loss:\t\t1.9451\n",
      "\tvalidation accuracy:\t\t41.02%\n",
      "\ttotal time elapsed:\t\t1570.664s\n",
      "Epoch 150 took 15.346s\n",
      "\ttraining loss:\t\t\t2.0972\n",
      "\tvalidation loss:\t\t1.9463\n",
      "\tvalidation accuracy:\t\t41.43%\n",
      "\ttotal time elapsed:\t\t2364.337s\n",
      "Epoch 200 took 15.640s\n",
      "\ttraining loss:\t\t\t2.0945\n",
      "\tvalidation loss:\t\t1.9386\n",
      "\tvalidation accuracy:\t\t41.49%\n",
      "\ttotal time elapsed:\t\t3147.492s\n",
      "Abandon ship!\n",
      "TEST PERFORMANCE\n",
      "\tStopped in epoch:\t\t231\n",
      "\tTest loss:\t\t\t1.9396\n",
      "\tTest accuracy:\t\t\t41.59%\n",
      "(12396, 2, 4, 9)\n",
      "Epoch 0 took 16.167s\n",
      "\ttraining loss:\t\t\t2.6881\n",
      "\tvalidation loss:\t\t2.5109\n",
      "\tvalidation accuracy:\t\t24.21%\n",
      "\ttotal time elapsed:\t\t16.419s\n",
      "Epoch 50 took 15.445s\n",
      "\ttraining loss:\t\t\t2.1298\n",
      "\tvalidation loss:\t\t1.9805\n",
      "\tvalidation accuracy:\t\t40.28%\n",
      "\ttotal time elapsed:\t\t815.230s\n",
      "Epoch 100 took 15.248s\n",
      "\ttraining loss:\t\t\t2.1089\n",
      "\tvalidation loss:\t\t1.9562\n",
      "\tvalidation accuracy:\t\t41.39%\n",
      "\ttotal time elapsed:\t\t1626.688s\n",
      "Epoch 150 took 15.221s\n",
      "\ttraining loss:\t\t\t2.0994\n",
      "\tvalidation loss:\t\t1.9457\n",
      "\tvalidation accuracy:\t\t41.76%\n",
      "\ttotal time elapsed:\t\t2401.403s\n",
      "Epoch 200 took 15.220s\n",
      "\ttraining loss:\t\t\t2.0945\n",
      "\tvalidation loss:\t\t1.9372\n",
      "\tvalidation accuracy:\t\t41.59%\n",
      "\ttotal time elapsed:\t\t3177.738s\n",
      "Epoch 250 took 15.037s\n",
      "\ttraining loss:\t\t\t2.0947\n",
      "\tvalidation loss:\t\t1.9348\n",
      "\tvalidation accuracy:\t\t41.92%\n",
      "\ttotal time elapsed:\t\t3945.800s\n",
      "Abandon ship!\n",
      "TEST PERFORMANCE\n",
      "\tStopped in epoch:\t\t256\n",
      "\tTest loss:\t\t\t1.9413\n",
      "\tTest accuracy:\t\t\t41.54%\n",
      "(12511, 2, 4, 9)\n",
      "Epoch 0 took 15.556s\n",
      "\ttraining loss:\t\t\t2.6983\n",
      "\tvalidation loss:\t\t2.5309\n",
      "\tvalidation accuracy:\t\t23.33%\n",
      "\ttotal time elapsed:\t\t15.795s\n",
      "Epoch 50 took 15.383s\n",
      "\ttraining loss:\t\t\t2.1290\n",
      "\tvalidation loss:\t\t1.9651\n",
      "\tvalidation accuracy:\t\t40.15%\n",
      "\ttotal time elapsed:\t\t794.709s\n",
      "Epoch 100 took 15.706s\n",
      "\ttraining loss:\t\t\t2.1133\n",
      "\tvalidation loss:\t\t1.9577\n",
      "\tvalidation accuracy:\t\t40.74%\n",
      "\ttotal time elapsed:\t\t1592.357s\n",
      "Epoch 150 took 15.491s\n",
      "\ttraining loss:\t\t\t2.1069\n",
      "\tvalidation loss:\t\t1.9491\n",
      "\tvalidation accuracy:\t\t41.20%\n",
      "\ttotal time elapsed:\t\t2381.161s\n",
      "Epoch 200 took 15.068s\n",
      "\ttraining loss:\t\t\t2.1023\n",
      "\tvalidation loss:\t\t1.9444\n",
      "\tvalidation accuracy:\t\t41.11%\n",
      "\ttotal time elapsed:\t\t3165.704s\n",
      "Abandon ship!\n",
      "TEST PERFORMANCE\n",
      "\tStopped in epoch:\t\t211\n",
      "\tTest loss:\t\t\t1.9431\n",
      "\tTest accuracy:\t\t\t41.16%\n",
      "(12277, 2, 4, 9)\n",
      "Epoch 0 took 15.742s\n",
      "\ttraining loss:\t\t\t2.7002\n",
      "\tvalidation loss:\t\t2.5193\n",
      "\tvalidation accuracy:\t\t23.34%\n",
      "\ttotal time elapsed:\t\t15.988s\n",
      "Epoch 50 took 15.396s\n",
      "\ttraining loss:\t\t\t2.1216\n",
      "\tvalidation loss:\t\t1.9467\n",
      "\tvalidation accuracy:\t\t40.77%\n",
      "\ttotal time elapsed:\t\t793.989s\n",
      "Epoch 100 took 15.116s\n",
      "\ttraining loss:\t\t\t2.1114\n",
      "\tvalidation loss:\t\t1.9352\n",
      "\tvalidation accuracy:\t\t41.24%\n",
      "\ttotal time elapsed:\t\t1564.978s\n",
      "Epoch 150 took 15.105s\n",
      "\ttraining loss:\t\t\t2.1082\n",
      "\tvalidation loss:\t\t1.9286\n",
      "\tvalidation accuracy:\t\t41.77%\n",
      "\ttotal time elapsed:\t\t2332.859s\n",
      "Epoch 200 took 15.207s\n",
      "\ttraining loss:\t\t\t2.1045\n",
      "\tvalidation loss:\t\t1.9204\n",
      "\tvalidation accuracy:\t\t41.74%\n",
      "\ttotal time elapsed:\t\t3102.472s\n",
      "Abandon ship!\n",
      "TEST PERFORMANCE\n",
      "\tStopped in epoch:\t\t212\n",
      "\tTest loss:\t\t\t1.9461\n",
      "\tTest accuracy:\t\t\t41.96%\n",
      "(12303, 2, 4, 9)\n",
      "Epoch 0 took 15.805s\n",
      "\ttraining loss:\t\t\t2.6911\n",
      "\tvalidation loss:\t\t2.4863\n",
      "\tvalidation accuracy:\t\t24.99%\n",
      "\ttotal time elapsed:\t\t16.045s\n",
      "Epoch 50 took 15.175s\n",
      "\ttraining loss:\t\t\t2.1224\n",
      "\tvalidation loss:\t\t1.9623\n",
      "\tvalidation accuracy:\t\t41.04%\n",
      "\ttotal time elapsed:\t\t800.666s\n",
      "Epoch 100 took 17.191s\n",
      "\ttraining loss:\t\t\t2.1134\n",
      "\tvalidation loss:\t\t1.9516\n",
      "\tvalidation accuracy:\t\t41.32%\n",
      "\ttotal time elapsed:\t\t1653.402s\n",
      "Epoch 150 took 17.205s\n",
      "\ttraining loss:\t\t\t2.1094\n",
      "\tvalidation loss:\t\t1.9473\n",
      "\tvalidation accuracy:\t\t41.10%\n",
      "\ttotal time elapsed:\t\t2529.910s\n",
      "Abandon ship!\n",
      "TEST PERFORMANCE\n",
      "\tStopped in epoch:\t\t169\n",
      "\tTest loss:\t\t\t1.9545\n",
      "\tTest accuracy:\t\t\t40.76%\n",
      "OVERALL RESULTS\n",
      "\tAverage NLL:\t\t1.945\n",
      "\tCred. Interval:\t\t[1.938, 1.952]\n",
      "\tTotal time:\t\t17176.24\n"
     ]
    }
   ],
   "source": [
    "def prototype(input_var=None):\n",
    "    input_shape = (None, 2, 4, 9)\n",
    "    FixLayer = make_FixLayer(input_var)\n",
    "\n",
    "    input_layer = L.InputLayer(shape=input_shape, input_var=input_var)\n",
    "    network = L.Conv2DLayer(\n",
    "        input_layer, num_filters=32, filter_size=(4,4), pad='full',\n",
    "        nonlinearity=nl.identity\n",
    "    )\n",
    "\n",
    "    network = L.ParametricRectifierLayer(network, shared_axes='auto') # default: auto\n",
    "    network = L.FeaturePoolLayer(network, pool_function=T.sum, pool_size=2) # default: T.sum, 2\n",
    "    network = L.DropoutLayer(network, p=.75) # default: .75\n",
    "    network = L.DenseLayer(\n",
    "        network, num_units=36,\n",
    "        nonlinearity=nl.very_leaky_rectify, W=lasagne.init.HeUniform(gain='relu')\n",
    "    )\n",
    "    network = FixLayer(network)\n",
    "    network = L.NonlinearityLayer(network, nonlinearity=nl.softmax)\n",
    "    network = FixLayer(network)\n",
    "    network = ReNormLayer(network)\n",
    "\n",
    "    return network\n",
    "\n",
    "trainer = DefaultTrainer(stopthresh=100) # default: 125\n",
    "net_list = trainer.train_all(architecture=prototype, data=data, seed=985227)\n",
    "\n",
    "for i, n in enumerate(net_list):\n",
    "    n.save_params(os.path.join(paramsdir, '{} split agg fit exp 1-4'.format(i)))"
   ]
  },
  {
   "cell_type": "code",
   "execution_count": 33,
   "metadata": {
    "collapsed": false
   },
   "outputs": [
    {
     "data": {
      "text/plain": [
       "(5482, 2, 4, 9)"
      ]
     },
     "execution_count": 33,
     "metadata": {},
     "output_type": "execute_result"
    }
   ],
   "source": [
    "hvhdata = loading.default_loader(os.path.join(datadir, '0 (with groups).csv'))\n",
    "Xs = hvhdata[2]\n",
    "ys = hvhdata[3]\n",
    "Ss = np.concatenate(hvhdata[4])\n",
    "Xs = np.concatenate(Xs)\n",
    "ys = np.concatenate(ys)\n",
    "Xs.shape"
   ]
  },
  {
   "cell_type": "code",
   "execution_count": 25,
   "metadata": {
    "collapsed": false
   },
   "outputs": [],
   "source": [
    "nlls = []\n",
    "results = []\n",
    "for net in net_list:\n",
    "    nll = net.test_fn(Xs, ys)\n",
    "    nlls.append(nll[0])\n",
    "    res = net.itemized_test_fn(Xs, ys)\n",
    "    results.append(res)"
   ]
  },
  {
   "cell_type": "code",
   "execution_count": 44,
   "metadata": {
    "collapsed": false
   },
   "outputs": [
    {
     "data": {
      "text/plain": [
       "(Mean(statistic=2.0640209870003878, minmax=(2.0565099414769299, 2.0715320325238458)),\n",
       " Variance(statistic=0.0001241334460871802, minmax=(2.6167156672782504e-05, 0.00034931595670877909)),\n",
       " Std_dev(statistic=0.0098739141465311268, minmax=(0.0051153843133026188, 0.018689996166633614)))"
      ]
     },
     "execution_count": 44,
     "metadata": {},
     "output_type": "execute_result"
    }
   ],
   "source": [
    "nlls_array = np.array(nlls)\n",
    "results_array = np.array(results)\n",
    "bmvs(nlls_array)"
   ]
  },
  {
   "cell_type": "code",
   "execution_count": 43,
   "metadata": {
    "collapsed": false
   },
   "outputs": [
    {
     "data": {
      "text/plain": [
       "(Mean(statistic=2.0529852212908963, minmax=(1.9476852219908463, 2.1582852205909466)),\n",
       " Variance(statistic=0.11426693138680367, minmax=(0.072743842325896993, 0.17873587770463698)),\n",
       " Std_dev(statistic=0.33575788235153775, minmax=(0.26971066409375988, 0.42277166142568845)))"
      ]
     },
     "execution_count": 43,
     "metadata": {},
     "output_type": "execute_result"
    }
   ],
   "source": [
    "subresults = []\n",
    "for s in np.unique(Ss):\n",
    "    idx = np.where(Ss==s)[0]\n",
    "    res = results_array[:, idx].mean()\n",
    "    subresults.append(res)\n",
    "bmvs(np.array(subresults), alpha=.95)"
   ]
  },
  {
   "cell_type": "markdown",
   "metadata": {},
   "source": [
    "# Prototyping Tuning"
   ]
  },
  {
   "cell_type": "code",
   "execution_count": 53,
   "metadata": {
    "collapsed": true
   },
   "outputs": [],
   "source": [
    "class FineTuner(DefaultTrainer):\n",
    "    \"\"\"\n",
    "    Trainer to fine tune networks to individual subjects\n",
    "\n",
    "    Consider moving freeze, param set functions properly into Network object\n",
    "    Abstracting split functions and augment in DefaultTrainer would be good too\n",
    "    \"\"\"\n",
    "\n",
    "    def train_all(self, architecture, data, split, seed=None, startparams=None, freeze=True, save_params=False):\n",
    "        if seed:\n",
    "            np.random.seed(seed)\n",
    "\n",
    "        D, groups, Xs, ys, Ss = data\n",
    "        num_splits = len(Xs)\n",
    "        r = np.tile(np.arange(num_splits), [num_splits, 1])\n",
    "        r = (r + r.T) % num_splits\n",
    "\n",
    "        starttime = time.time()\n",
    "        net = Network(architecture)\n",
    "        if startparams:\n",
    "            _layers = L.get_all_layers(net.net)\n",
    "            L.set_all_param_values(_layers, startparams)\n",
    "            convlayer, prelulayer = _layers[1:3]\n",
    "            if freeze:\n",
    "                convlayer.params[convlayer.W].remove('trainable')\n",
    "                convlayer.params[convlayer.b].remove('trainable')\n",
    "                prelulayer.params[prelulayer.alpha].remove('trainable')\n",
    "\n",
    "        train_idxs = r[split, :3]\n",
    "        val_idxs = r[split, 3:4]\n",
    "        test_idxs = r[split, 4:]\n",
    "\n",
    "        X, y, S = [np.concatenate(np.array(Z)[train_idxs]) for Z in [Xs, ys, Ss]]\n",
    "        Xv, yv, Sv = [np.concatenate(np.array(Z)[val_idxs]) for Z in [Xs, ys, Ss]]\n",
    "        Xt, yt, St = [np.concatenate(np.array(Z)[test_idxs]) for Z in [Xs, ys, Ss]]\n",
    "        X, y = augment((X, y))\n",
    "        S = np.concatenate([S, S, S, S])\n",
    "        self.train(net, training_data=(X, y), validation_data=(Xv, yv))\n",
    "        self.test(net, testing_data=(Xt, yt))\n",
    "        time_elapsed = time.time() - starttime\n",
    "\n",
    "        return net"
   ]
  },
  {
   "cell_type": "code",
   "execution_count": 54,
   "metadata": {
    "collapsed": false
   },
   "outputs": [
    {
     "name": "stdout",
     "output_type": "stream",
     "text": [
      "Epoch 0 took 1.545s\n",
      "\ttraining loss:\t\t\t2.2400\n",
      "\tvalidation loss:\t\t1.9872\n",
      "\tvalidation accuracy:\t\t41.60%\n",
      "\ttotal time elapsed:\t\t1.571s\n",
      "Abandon ship!\n",
      "TEST PERFORMANCE\n",
      "\tStopped in epoch:\t\t45\n",
      "\tTest loss:\t\t\t2.0473\n",
      "\tTest accuracy:\t\t\t38.18%\n",
      "Epoch 0 took 1.356s\n",
      "\ttraining loss:\t\t\t2.2406\n",
      "\tvalidation loss:\t\t2.0766\n",
      "\tvalidation accuracy:\t\t39.45%\n",
      "\ttotal time elapsed:\t\t1.377s\n",
      "Abandon ship!\n",
      "TEST PERFORMANCE\n",
      "\tStopped in epoch:\t\t32\n",
      "\tTest loss:\t\t\t1.9593\n",
      "\tTest accuracy:\t\t\t40.72%\n",
      "Epoch 0 took 1.289s\n",
      "\ttraining loss:\t\t\t2.2414\n",
      "\tvalidation loss:\t\t1.9977\n",
      "\tvalidation accuracy:\t\t42.77%\n",
      "\ttotal time elapsed:\t\t1.311s\n",
      "Abandon ship!\n",
      "TEST PERFORMANCE\n",
      "\tStopped in epoch:\t\t34\n",
      "\tTest loss:\t\t\t2.0117\n",
      "\tTest accuracy:\t\t\t38.48%\n",
      "Epoch 0 took 1.592s\n",
      "\ttraining loss:\t\t\t2.2406\n",
      "\tvalidation loss:\t\t2.0620\n",
      "\tvalidation accuracy:\t\t38.48%\n",
      "\ttotal time elapsed:\t\t1.625s\n",
      "Abandon ship!\n",
      "TEST PERFORMANCE\n",
      "\tStopped in epoch:\t\t40\n",
      "\tTest loss:\t\t\t1.9980\n",
      "\tTest accuracy:\t\t\t39.75%\n",
      "Epoch 0 took 1.571s\n",
      "\ttraining loss:\t\t\t2.2441\n",
      "\tvalidation loss:\t\t2.0192\n",
      "\tvalidation accuracy:\t\t40.62%\n",
      "\ttotal time elapsed:\t\t1.595s\n",
      "Abandon ship!\n",
      "TEST PERFORMANCE\n",
      "\tStopped in epoch:\t\t32\n",
      "\tTest loss:\t\t\t1.9591\n",
      "\tTest accuracy:\t\t\t41.70%\n",
      "Epoch 0 took 1.379s\n",
      "\ttraining loss:\t\t\t2.2406\n",
      "\tvalidation loss:\t\t1.9966\n",
      "\tvalidation accuracy:\t\t41.99%\n",
      "\ttotal time elapsed:\t\t1.400s\n",
      "Abandon ship!\n",
      "TEST PERFORMANCE\n",
      "\tStopped in epoch:\t\t39\n",
      "\tTest loss:\t\t\t2.0548\n",
      "\tTest accuracy:\t\t\t37.89%\n",
      "Epoch 0 took 1.298s\n",
      "\ttraining loss:\t\t\t2.2336\n",
      "\tvalidation loss:\t\t2.0854\n",
      "\tvalidation accuracy:\t\t38.18%\n",
      "\ttotal time elapsed:\t\t1.321s\n",
      "Abandon ship!\n",
      "TEST PERFORMANCE\n",
      "\tStopped in epoch:\t\t37\n",
      "\tTest loss:\t\t\t1.9587\n",
      "\tTest accuracy:\t\t\t41.31%\n",
      "Epoch 0 took 1.385s\n",
      "\ttraining loss:\t\t\t2.2407\n",
      "\tvalidation loss:\t\t1.9891\n",
      "\tvalidation accuracy:\t\t43.46%\n",
      "\ttotal time elapsed:\t\t1.407s\n",
      "Abandon ship!\n",
      "TEST PERFORMANCE\n",
      "\tStopped in epoch:\t\t31\n",
      "\tTest loss:\t\t\t2.0089\n",
      "\tTest accuracy:\t\t\t39.36%\n",
      "Epoch 0 took 1.289s\n",
      "\ttraining loss:\t\t\t2.2346\n",
      "\tvalidation loss:\t\t2.0542\n",
      "\tvalidation accuracy:\t\t40.04%\n",
      "\ttotal time elapsed:\t\t1.315s\n",
      "Abandon ship!\n",
      "TEST PERFORMANCE\n",
      "\tStopped in epoch:\t\t34\n",
      "\tTest loss:\t\t\t2.0035\n",
      "\tTest accuracy:\t\t\t41.60%\n",
      "Epoch 0 took 1.362s\n",
      "\ttraining loss:\t\t\t2.2446\n",
      "\tvalidation loss:\t\t2.0255\n",
      "\tvalidation accuracy:\t\t42.87%\n",
      "\ttotal time elapsed:\t\t1.383s\n",
      "Abandon ship!\n",
      "TEST PERFORMANCE\n",
      "\tStopped in epoch:\t\t30\n",
      "\tTest loss:\t\t\t1.9642\n",
      "\tTest accuracy:\t\t\t42.19%\n",
      "Epoch 0 took 1.336s\n",
      "\ttraining loss:\t\t\t2.2496\n",
      "\tvalidation loss:\t\t1.9954\n",
      "\tvalidation accuracy:\t\t40.92%\n",
      "\ttotal time elapsed:\t\t1.360s\n",
      "Abandon ship!\n",
      "TEST PERFORMANCE\n",
      "\tStopped in epoch:\t\t40\n",
      "\tTest loss:\t\t\t2.0619\n",
      "\tTest accuracy:\t\t\t37.60%\n",
      "Epoch 0 took 1.358s\n",
      "\ttraining loss:\t\t\t2.2421\n",
      "\tvalidation loss:\t\t2.0874\n",
      "\tvalidation accuracy:\t\t39.26%\n",
      "\ttotal time elapsed:\t\t1.384s\n",
      "Abandon ship!\n",
      "TEST PERFORMANCE\n",
      "\tStopped in epoch:\t\t34\n",
      "\tTest loss:\t\t\t1.9671\n",
      "\tTest accuracy:\t\t\t40.53%\n",
      "Epoch 0 took 1.411s\n",
      "\ttraining loss:\t\t\t2.2567\n",
      "\tvalidation loss:\t\t1.9861\n",
      "\tvalidation accuracy:\t\t40.82%\n",
      "\ttotal time elapsed:\t\t1.452s\n",
      "Abandon ship!\n",
      "TEST PERFORMANCE\n",
      "\tStopped in epoch:\t\t32\n",
      "\tTest loss:\t\t\t2.0297\n",
      "\tTest accuracy:\t\t\t37.79%\n",
      "Epoch 0 took 1.412s\n",
      "\ttraining loss:\t\t\t2.2466\n",
      "\tvalidation loss:\t\t2.0637\n",
      "\tvalidation accuracy:\t\t38.96%\n",
      "\ttotal time elapsed:\t\t1.458s\n",
      "Abandon ship!\n",
      "TEST PERFORMANCE\n",
      "\tStopped in epoch:\t\t36\n",
      "\tTest loss:\t\t\t2.0096\n",
      "\tTest accuracy:\t\t\t41.11%\n",
      "Epoch 0 took 1.418s\n",
      "\ttraining loss:\t\t\t2.2467\n",
      "\tvalidation loss:\t\t2.0285\n",
      "\tvalidation accuracy:\t\t42.77%\n",
      "\ttotal time elapsed:\t\t1.440s\n",
      "Abandon ship!\n",
      "TEST PERFORMANCE\n",
      "\tStopped in epoch:\t\t31\n",
      "\tTest loss:\t\t\t1.9533\n",
      "\tTest accuracy:\t\t\t42.19%\n",
      "Epoch 0 took 1.375s\n",
      "\ttraining loss:\t\t\t2.2439\n",
      "\tvalidation loss:\t\t1.9977\n",
      "\tvalidation accuracy:\t\t41.31%\n",
      "\ttotal time elapsed:\t\t1.398s\n",
      "Abandon ship!\n",
      "TEST PERFORMANCE\n",
      "\tStopped in epoch:\t\t47\n",
      "\tTest loss:\t\t\t2.0576\n",
      "\tTest accuracy:\t\t\t39.26%\n",
      "Epoch 0 took 1.332s\n",
      "\ttraining loss:\t\t\t2.2395\n",
      "\tvalidation loss:\t\t2.0802\n",
      "\tvalidation accuracy:\t\t39.16%\n",
      "\ttotal time elapsed:\t\t1.355s\n",
      "Abandon ship!\n",
      "TEST PERFORMANCE\n",
      "\tStopped in epoch:\t\t32\n",
      "\tTest loss:\t\t\t1.9516\n",
      "\tTest accuracy:\t\t\t39.75%\n",
      "Epoch 0 took 1.249s\n",
      "\ttraining loss:\t\t\t2.2415\n",
      "\tvalidation loss:\t\t1.9951\n",
      "\tvalidation accuracy:\t\t41.02%\n",
      "\ttotal time elapsed:\t\t1.269s\n",
      "Abandon ship!\n",
      "TEST PERFORMANCE\n",
      "\tStopped in epoch:\t\t33\n",
      "\tTest loss:\t\t\t2.0362\n",
      "\tTest accuracy:\t\t\t38.48%\n",
      "Epoch 0 took 1.352s\n",
      "\ttraining loss:\t\t\t2.2377\n",
      "\tvalidation loss:\t\t2.0693\n",
      "\tvalidation accuracy:\t\t39.94%\n",
      "\ttotal time elapsed:\t\t1.373s\n",
      "Abandon ship!\n",
      "TEST PERFORMANCE\n",
      "\tStopped in epoch:\t\t41\n",
      "\tTest loss:\t\t\t1.9996\n",
      "\tTest accuracy:\t\t\t38.96%\n",
      "Epoch 0 took 1.258s\n",
      "\ttraining loss:\t\t\t2.2511\n",
      "\tvalidation loss:\t\t2.0126\n",
      "\tvalidation accuracy:\t\t40.82%\n",
      "\ttotal time elapsed:\t\t1.279s\n",
      "Abandon ship!\n",
      "TEST PERFORMANCE\n",
      "\tStopped in epoch:\t\t30\n",
      "\tTest loss:\t\t\t1.9710\n",
      "\tTest accuracy:\t\t\t42.29%\n",
      "Epoch 0 took 1.350s\n",
      "\ttraining loss:\t\t\t2.2540\n",
      "\tvalidation loss:\t\t2.0079\n",
      "\tvalidation accuracy:\t\t41.41%\n",
      "\ttotal time elapsed:\t\t1.371s\n",
      "Abandon ship!\n",
      "TEST PERFORMANCE\n",
      "\tStopped in epoch:\t\t39\n",
      "\tTest loss:\t\t\t2.0825\n",
      "\tTest accuracy:\t\t\t38.28%\n",
      "Epoch 0 took 1.461s\n",
      "\ttraining loss:\t\t\t2.2546\n",
      "\tvalidation loss:\t\t2.0889\n",
      "\tvalidation accuracy:\t\t39.26%\n",
      "\ttotal time elapsed:\t\t1.486s\n",
      "Abandon ship!\n",
      "TEST PERFORMANCE\n",
      "\tStopped in epoch:\t\t33\n",
      "\tTest loss:\t\t\t1.9746\n",
      "\tTest accuracy:\t\t\t40.04%\n",
      "Epoch 0 took 1.416s\n",
      "\ttraining loss:\t\t\t2.2590\n",
      "\tvalidation loss:\t\t1.9981\n",
      "\tvalidation accuracy:\t\t40.92%\n",
      "\ttotal time elapsed:\t\t1.439s\n",
      "Abandon ship!\n",
      "TEST PERFORMANCE\n",
      "\tStopped in epoch:\t\t32\n",
      "\tTest loss:\t\t\t2.0345\n",
      "\tTest accuracy:\t\t\t38.38%\n",
      "Epoch 0 took 1.345s\n",
      "\ttraining loss:\t\t\t2.2404\n",
      "\tvalidation loss:\t\t2.0710\n",
      "\tvalidation accuracy:\t\t37.40%\n",
      "\ttotal time elapsed:\t\t1.368s\n",
      "Abandon ship!\n",
      "TEST PERFORMANCE\n",
      "\tStopped in epoch:\t\t38\n",
      "\tTest loss:\t\t\t2.0201\n",
      "\tTest accuracy:\t\t\t40.33%\n",
      "Epoch 0 took 1.431s\n",
      "\ttraining loss:\t\t\t2.2591\n",
      "\tvalidation loss:\t\t2.0408\n",
      "\tvalidation accuracy:\t\t41.50%\n",
      "\ttotal time elapsed:\t\t1.460s\n",
      "Abandon ship!\n",
      "TEST PERFORMANCE\n",
      "\tStopped in epoch:\t\t33\n",
      "\tTest loss:\t\t\t1.9725\n",
      "\tTest accuracy:\t\t\t41.41%\n"
     ]
    }
   ],
   "source": [
    "tune_results = np.zeros([40, 5, 5])\n",
    "tuner = FineTuner(stopthresh=25)\n",
    "\n",
    "for i, n in enumerate(net_list):\n",
    "    for j in range(5):\n",
    "        params = L.get_all_param_values(n.net)\n",
    "        subnet = tuner.train_all(architecture=prototype, data=hvhdata, split=j, startparams=params, freeze=True)\n",
    "        subnet.save_params(os.path.join(paramsdir, '{} agg fit exp 1-4 {} tune fit exp 0'.format(i, j)))\n",
    "        \n",
    "        res = subnet.itemized_test_fn(Xs, ys)\n",
    "        for s in np.unique(Ss):\n",
    "            idx = np.where(Ss==s)[0]\n",
    "            tune_results[s, j, i] = res[idx].mean()"
   ]
  },
  {
   "cell_type": "code",
   "execution_count": 62,
   "metadata": {
    "collapsed": true
   },
   "outputs": [],
   "source": [
    "def load_params(net, paramsfile):\n",
    "    with np.load(paramsfile) as loaded:\n",
    "        params_list = [(i[0], i[1]) for i in loaded.items()]\n",
    "        params_list.sort()\n",
    "        L.set_all_param_values(net.net, [i[1] for i in params_list])\n",
    "\n",
    "    return None"
   ]
  },
  {
   "cell_type": "code",
   "execution_count": 63,
   "metadata": {
    "collapsed": false
   },
   "outputs": [],
   "source": [
    "tune_results = np.zeros([40, 5, 5])\n",
    "tuner = FineTuner(stopthresh=25)\n",
    "\n",
    "for i, n in enumerate(net_list):\n",
    "    for j in range(5):\n",
    "        params = L.get_all_param_values(n.net)\n",
    "#         subnet = tuner.train_all(architecture=prototype, data=hvhdata, split=j, startparams=params, freeze=True)\n",
    "#         subnet.save_params(os.path.join(paramsdir, '{} agg fit exp 1-4 {} tune fit exp 0'.format(i, j)))\n",
    "        \n",
    "        subnet = Network(prototype)\n",
    "        load_params(subnet, os.path.join(paramsdir, '{} agg fit exp 1-4 {} tune fit exp 0.npz'.format(i, j)))\n",
    "        res = subnet.itemized_test_fn(Xs, ys)\n",
    "        for s in np.unique(Ss):\n",
    "            idx = np.where(Ss==s)[0]\n",
    "            tune_results[s, j, i] = res[idx].mean()"
   ]
  },
  {
   "cell_type": "code",
   "execution_count": 67,
   "metadata": {
    "collapsed": false
   },
   "outputs": [
    {
     "data": {
      "text/plain": [
       "(Mean(statistic=1.8895031381739038, minmax=(1.8097881110292786, 1.969218165318529)),\n",
       " Variance(statistic=0.094377362595261444, minmax=(0.063987902994348825, 0.1358983989627362)),\n",
       " Std_dev(statistic=0.30514049970042506, minmax=(0.25295830287687499, 0.36864400030752731)))"
      ]
     },
     "execution_count": 67,
     "metadata": {},
     "output_type": "execute_result"
    }
   ],
   "source": [
    "bmvs(tune_results.mean(axis=(1,2)))"
   ]
  },
  {
   "cell_type": "code",
   "execution_count": 90,
   "metadata": {
    "collapsed": false
   },
   "outputs": [],
   "source": [
    "trout = tune_results.reshape([40, 25])\n",
    "np.savetxt(os.path.join(resultsdir, 'arch32 agg fit exp 1-4 agg tune fit exp 0.csv'), trout, fmt='%.18f', delimiter=',')"
   ]
  },
  {
   "cell_type": "code",
   "execution_count": 88,
   "metadata": {
    "collapsed": false
   },
   "outputs": [
    {
     "data": {
      "image/png": "[encoded data removed]",
      "text/plain": [
       "<matplotlib.figure.Figure at 0x12ef16518>"
      ]
     },
     "metadata": {},
     "output_type": "display_data"
    }
   ],
   "source": [
    "fig, axes = plt.subplots(1, 2, figsize=(12, 4), squeeze=False)\n",
    "\n",
    "ax = axes[0, 0]\n",
    "ax.hist(trout.flatten(), bins=np.arange(1.2, 3.0, .15))\n",
    "\n",
    "ax = axes[0, 1]\n",
    "\n",
    "mos = [bmv(trout[i, :], alpha=.95) for i in np.arange(40)]\n",
    "means = np.array([mo[0][0] for mo in mos])\n",
    "lbs = [mo[]]\n",
    "orderidx = trout.mean(axis=1).argsort()\n",
    "ax.plot(np.arange(40), trout[orderidx, :].mean(axis=1), marker='o', linestyle='None')\n",
    "\n",
    "sns.despine();"
   ]
  },
  {
   "cell_type": "code",
   "execution_count": 85,
   "metadata": {
    "collapsed": false
   },
   "outputs": [
    {
     "data": {
      "text/plain": [
       "array([18, 27, 20, 31, 30, 35, 33,  5, 19, 15, 21, 26,  2, 10, 34,  1, 13,\n",
       "       25,  7,  4, 12, 38, 14, 32,  3, 22,  6, 24,  0, 39, 11, 29,  9, 36,\n",
       "       16, 23, 28,  8, 37, 17])"
      ]
     },
     "execution_count": 85,
     "metadata": {},
     "output_type": "execute_result"
    }
   ],
   "source": [
    "orderidx"
   ]
  },
  {
   "cell_type": "code",
   "execution_count": null,
   "metadata": {
    "collapsed": true
   },
   "outputs": [],
   "source": []
  }
 ],
 "metadata": {
  "anaconda-cloud": {},
  "kernelspec": {
   "display_name": "Python [default]",
   "language": "python",
   "name": "python3"
  },
  "language_info": {
   "codemirror_mode": {
    "name": "ipython",
    "version": 3
   },
   "file_extension": ".py",
   "mimetype": "text/x-python",
   "name": "python",
   "nbconvert_exporter": "python",
   "pygments_lexer": "ipython3",
   "version": "3.5.2"
  }
 },
 "nbformat": 4,
 "nbformat_minor": 2
}
