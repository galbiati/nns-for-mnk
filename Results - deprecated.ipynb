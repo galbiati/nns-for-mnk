{
 "cells": [
  {
   "cell_type": "code",
   "execution_count": null,
   "metadata": {
    "collapsed": true
   },
   "outputs": [],
   "source": [
    "import os\n",
    "\n",
    "import numpy as np\n",
    "import pandas as pd\n",
    "import scipy.stats as sts\n",
    "import matplotlib\n",
    "import matplotlib.pyplot as plt\n",
    "import seaborn as sns\n",
    "\n",
    "sns.set_style('white')\n",
    "sns.set_context('talk')\n",
    "\n",
    "matplotlib.rcParams['xtick.labelsize'] = 10\n",
    "matplotlib.rcParams['ytick.labelsize'] = 10\n",
    "matplotlib.rcParams['axes.labelsize'] = 12\n",
    "matplotlib.rcParams['legend.fontsize'] = 12\n",
    "matplotlib.rcParams['mathtext.fontset'] = 'custom'\n",
    "matplotlib.rcParams['mathtext.rm'] = 'Bitstream Vera Sans'\n",
    "matplotlib.rcParams['mathtext.default'] = 'rm'\n",
    "matplotlib.rcParams['mathtext.it'] = 'Bitstream Vera Sans:italic'\n",
    "matplotlib.rcParams['mathtext.bf'] = 'Bitstream Vera Sans:bold'\n",
    "\n",
    "%matplotlib inline"
   ]
  },
  {
   "cell_type": "code",
   "execution_count": null,
   "metadata": {
    "collapsed": false
   },
   "outputs": [],
   "source": [
    "files = [f for f in os.listdir('./results') if f[-3:]=='csv']\n",
    "d0 = pd.read_csv('./results/' + files[0])\n",
    "\n",
    "D = d0.loc[:, ['subject', 'color', 'bp', 'wp', 'response', 'rt', 'splitg', 'n_pieces']]\n",
    "\n",
    "D = D.copy()\n",
    "\n",
    "names = [f[14:-4] for f in files if f[:3]=='app']\n",
    "\n",
    "for f in files:\n",
    "    if f[:3]=='app':\n",
    "        _d = pd.read_csv('./results/' + f)\n",
    "        D.loc[:, f[14:-4]] = _d.cnn_nll.values\n",
    "    \n",
    "D.head()"
   ]
  },
  {
   "cell_type": "code",
   "execution_count": null,
   "metadata": {
    "collapsed": false
   },
   "outputs": [],
   "source": [
    "L = pd.read_csv('./results/loglik_by_board_default.txt', names=['n_pieces', 'default'])\n",
    "D.loc[:, 'default'] = L.default.values"
   ]
  },
  {
   "cell_type": "code",
   "execution_count": null,
   "metadata": {
    "collapsed": false
   },
   "outputs": [],
   "source": [
    "levels = 2**np.arange(9)\n",
    "types = ['smart', 'naive']\n",
    "m_smart, m_naive, l_smart, l_naive, u_smart, u_naive = [np.zeros(9) for _ in range(6)]\n",
    "\n",
    "for name in names:\n",
    "    n = np.log2(int(name[6:]))\n",
    "    if name[:5]=='naive':\n",
    "        m, l, u = m_naive, l_naive, u_naive\n",
    "    else:\n",
    "        m, l, u = m_smart, l_smart, u_smart\n",
    "    \n",
    "    mstats, _, _ = sts.bayes_mvs(D.loc[:, name].values)\n",
    "    m[n] = mstats[0]\n",
    "    l[n] = mstats[1][0]\n",
    "    u[n] = mstats[1][1]\n",
    "    \n",
    "mstats_default, _, _ = sts.bayes_mvs(D.loc[:, 'default'].values, alpha=.95)\n",
    "m_default, l_default, u_default = mstats_default[0], mstats_default[1][0], mstats_default[1][1]"
   ]
  },
  {
   "cell_type": "code",
   "execution_count": null,
   "metadata": {
    "collapsed": false
   },
   "outputs": [],
   "source": [
    "print(\n",
    "    'Is 32 filters significantly better than 16?\\n', \n",
    "    sts.ttest_ind(D.smart_16.values, D.smart_32.values)\n",
    ")\n",
    "\n",
    "print(\n",
    "    'Is 64 better than 32?\\n',\n",
    "    sts.ttest_ind(D.smart_32.values, D.smart_64.values)\n",
    ")\n",
    "\n",
    "print(\n",
    "    'Just to check, is smart 32 better than naive 32?\\n',\n",
    "    sts.ttest_ind(D.smart_32.values, D.naive_32.values)\n",
    ")\n",
    "\n",
    "print(\n",
    "    'It is official: best CNN is 32 filter with rule knowledge'\n",
    ")"
   ]
  },
  {
   "cell_type": "code",
   "execution_count": null,
   "metadata": {
    "collapsed": false
   },
   "outputs": [],
   "source": [
    "fig, axes = plt.subplots(1, 1, figsize=(8.5, 5), squeeze=False)\n",
    "\n",
    "trends = axes[0, 0]\n",
    "\n",
    "trends.plot(np.arange(9), m_smart, label='Rule knowledge', color='teal')\n",
    "trends.fill_between(\n",
    "    np.arange(9), l_smart, u_smart, \n",
    "    zorder=0, alpha=.2, facecolor='teal'\n",
    ")\n",
    "\n",
    "trends.plot(np.arange(9), m_naive, label='No rule knowledge', color='#11AAAA')\n",
    "trends.fill_between(\n",
    "    np.arange(9), l_naive, u_naive, \n",
    "    zorder=1, alpha=.2, facecolor='#11AAAA'\n",
    ")\n",
    "\n",
    "trends.plot([0, 8], [m_default, m_default], label='Default model', color='goldenrod')\n",
    "trends.fill_between(\n",
    "    [0, 8], [l_default,]*2, [u_default,]*2, \n",
    "    alpha=.2, facecolor='goldenrod'\n",
    ")\n",
    "\n",
    "plt.setp(trends, xlabel=r'$\\log_2{}$ Number of filters', ylabel='Negative log likelihood')\n",
    "\n",
    "trends.legend()\n",
    "sns.despine()\n",
    "fig.tight_layout()\n",
    "fig.savefig('./results/trends.png')"
   ]
  },
  {
   "cell_type": "code",
   "execution_count": null,
   "metadata": {
    "collapsed": false
   },
   "outputs": [],
   "source": [
    "B = pd.read_csv('./results/appended_data_smart_32.csv')\n",
    "B.columns"
   ]
  },
  {
   "cell_type": "code",
   "execution_count": null,
   "metadata": {
    "collapsed": false
   },
   "outputs": [],
   "source": [
    "reconstitute = lambda x: np.array(list(map(int, x))).reshape(4,9)\n",
    "\n",
    "def show_output(pos, ax, df, show_zet=False):\n",
    "    positions = ['cnn_' + str(i) for i in range(36)]\n",
    "    d = df.loc[pos, positions].values.reshape([4,9]).astype(float)\n",
    "\n",
    "    sns.heatmap(\n",
    "        d, ax=ax, \n",
    "        square=True, vmin=0, vmax=.25, cbar=False, linewidth=1, linecolor='black',\n",
    "        cmap=sns.palettes.blend_palette(['#999999', '#66FF66'], n_colors=18, as_cmap=True),\n",
    "        xticklabels=False, yticklabels=False, annot=True, fmt='.2f'\n",
    "    )\n",
    "\n",
    "    if df.loc[pos, 'color'] == 0:\n",
    "        own_color, opp_color = 'black', 'white'\n",
    "    else:\n",
    "        own_color, opp_color = 'white', 'black'\n",
    "\n",
    "    p = np.where(reconstitute(df.loc[pos, 'bp'])==1)\n",
    "    ax.scatter( .5 + p[1], 3.5 - p[0], c=own_color, s=400)\n",
    "    \n",
    "    p = np.where(reconstitute(df.loc[pos, 'wp'])==1)\n",
    "    ax.scatter( .5 + p[1], 3.5 - p[0], c=opp_color, s=400)\n",
    "    \n",
    "    if show_zet:\n",
    "        r = B.loc[pos, 'response']\n",
    "        p = (r % 9, r // 9)\n",
    "        ax.plot(\n",
    "            p[0] + .5, 3.5 - p[1], \n",
    "            linestyle='None', \n",
    "            marker='o', markersize=20, markerfacecolor='None', \n",
    "            markeredgecolor='black', markeredgewidth=1\n",
    "        );\n",
    "        "
   ]
  },
  {
   "cell_type": "code",
   "execution_count": null,
   "metadata": {
    "collapsed": false
   },
   "outputs": [],
   "source": [
    "fig = plt.figure(figsize=(8.5, 8))\n",
    "gs = matplotlib.gridspec.GridSpec(4, 2)\n",
    "\n",
    "for i in np.arange(8):\n",
    "    ax = plt.subplot(gs[i//2, i%2])\n",
    "    show_output(pos=i*2, ax=ax, df=B, show_zet=True)\n",
    "    \n",
    "sns.despine()\n",
    "\n",
    "plt.tight_layout()\n",
    "fig.savefig('examples.png', bbox_inches='tight')"
   ]
  },
  {
   "cell_type": "code",
   "execution_count": null,
   "metadata": {
    "collapsed": false
   },
   "outputs": [],
   "source": []
  },
  {
   "cell_type": "code",
   "execution_count": null,
   "metadata": {
    "collapsed": false
   },
   "outputs": [],
   "source": [
    "fig, cplot = plt.subplots(1, 1, figsize=(8.5, 1))\n",
    "\n",
    "cplot.imshow(\n",
    "    np.linspace(0, .25, 18).reshape(1, 18),\n",
    "    cmap=sns.palettes.blend_palette(['#999999', '#66FF66'], n_colors=18, as_cmap=True),\n",
    "    interpolation=\"nearest\"#, aspect=\"auto\"\n",
    ")\n",
    "\n",
    "plt.setp(\n",
    "    cplot, xticklabels=[0, .25], xticks=[-.5, 17.5]\n",
    ")\n",
    "cplot.yaxis.set_visible(False)\n",
    "cplot.bbox.size[0] = 500\n",
    "sns.despine(ax=cplot, bottom=True, left=True)\n",
    "fig.tight_layout()\n",
    "fig.savefig('colorbar.png')"
   ]
  },
  {
   "cell_type": "code",
   "execution_count": null,
   "metadata": {
    "collapsed": false
   },
   "outputs": [],
   "source": [
    "pd.read_csv('./results/trace_0.csv')"
   ]
  },
  {
   "cell_type": "code",
   "execution_count": null,
   "metadata": {
    "collapsed": true
   },
   "outputs": [],
   "source": []
  }
 ],
 "metadata": {
  "kernelspec": {
   "display_name": "Python [default]",
   "language": "python",
   "name": "python3"
  },
  "language_info": {
   "codemirror_mode": {
    "name": "ipython",
    "version": 3
   },
   "file_extension": ".py",
   "mimetype": "text/x-python",
   "name": "python",
   "nbconvert_exporter": "python",
   "pygments_lexer": "ipython3",
   "version": "3.5.2"
  }
 },
 "nbformat": 4,
 "nbformat_minor": 0
}
