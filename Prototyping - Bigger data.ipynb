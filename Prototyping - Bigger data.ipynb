{
 "cells": [
  {
   "cell_type": "code",
   "execution_count": 1,
   "metadata": {
    "collapsed": true
   },
   "outputs": [],
   "source": [
    "# imports\n",
    "import os\n",
    "import imp\n",
    "import numpy as np\n",
    "import pandas as pd\n",
    "import theano\n",
    "import lasagne\n",
    "import loading\n",
    "from training import *\n",
    "from network import *\n",
    "from architectures import *\n",
    "\n",
    "# aliases\n",
    "L = lasagne.layers\n",
    "nl = lasagne.nonlinearities\n",
    "T = theano.tensor\n",
    "\n",
    "# directories\n",
    "headdir = os.path.expanduser('~/Google Drive/Bas Zahy Gianni - Games')\n",
    "paramsdir = os.path.join(headdir, 'Analysis/0_hvh/Params/nnets/temp')\n",
    "datadir = os.path.join(headdir, 'Data/model input')\n",
    "resultsdir = os.path.join(headdir, 'Analysis/0_hvh/Loglik/nnets')"
   ]
  },
  {
   "cell_type": "code",
   "execution_count": 2,
   "metadata": {
    "collapsed": false
   },
   "outputs": [],
   "source": [
    "data = loading.default_loader(os.path.join(datadir, '1-4 (no computer).csv'))\n",
    "hvhdata = loading.default_loader(os.path.join(datadir, '0 (with groups).csv'))\n",
    "Xs = np.concatenate(hvhdata[2])\n",
    "ys = np.concatenate(hvhdata[3])\n",
    "Ss = np.concatenate(hvhdata[4])"
   ]
  },
  {
   "cell_type": "markdown",
   "metadata": {},
   "source": [
    "# Prototyping"
   ]
  },
  {
   "cell_type": "code",
   "execution_count": 3,
   "metadata": {
    "collapsed": true
   },
   "outputs": [],
   "source": [
    "def run_full_fit(arch, archname):\n",
    "    \"\"\"\n",
    "    Runs the full fitting experiment, pretraining on later experiments and testing on first.\n",
    "    Saves data as it goes to avoid eating memory.\n",
    "    \"\"\"\n",
    "\n",
    "    # start training\n",
    "    trainer = DefaultTrainer(stopthresh=75, print_interval=20)\n",
    "    net_list = trainer.train_all(architecture=arch, data=data, seed=985227)\n",
    "    \n",
    "    # save params\n",
    "    for i, n in enumerate(net_list):\n",
    "        fname = '{} {} split agg fit exp 1-4'.format(archname, i)\n",
    "        n.save_params(os.path.join(paramsdir, fname))\n",
    "    \n",
    "    tuner = FineTuner(stopthresh=20)\n",
    "\n",
    "    for i, n in enumerate(net_list):\n",
    "        for j in range(5):\n",
    "            fname = '{} {} agg fit exp 1-4 {} tune fit exp 0'.format(archname, i, j)\n",
    "            params = L.get_all_param_values(n.net)\n",
    "            subnet = tuner.train_all(architecture=arch, data=hvhdata, split=j, startparams=params, freeze=True)\n",
    "            subnet.save_params(os.path.join(paramsdir, fname))\n",
    "    \n",
    "    return None"
   ]
  },
  {
   "cell_type": "code",
   "execution_count": null,
   "metadata": {
    "collapsed": false,
    "scrolled": false
   },
   "outputs": [
    {
     "name": "stdout",
     "output_type": "stream",
     "text": [
      "\n",
      "Split Number 0\n",
      "(12362, 2, 4, 9)\n",
      "Epoch 0 took 18.348s\n",
      "\ttraining loss:\t\t\t2.7881\n",
      "\tvalidation loss:\t\t2.4920\n",
      "\tvalidation accuracy:\t\t23.68%\n",
      "\ttotal time elapsed:\t\t18.731s\n",
      "Epoch 20 took 17.409s\n",
      "\ttraining loss:\t\t\t2.0526\n",
      "\tvalidation loss:\t\t1.9341\n",
      "\tvalidation accuracy:\t\t41.24%\n",
      "\ttotal time elapsed:\t\t388.445s\n",
      "Epoch 40 took 17.645s\n",
      "\ttraining loss:\t\t\t2.0307\n",
      "\tvalidation loss:\t\t1.9146\n",
      "\tvalidation accuracy:\t\t41.62%\n",
      "\ttotal time elapsed:\t\t755.861s\n",
      "Epoch 60 took 17.241s\n",
      "\ttraining loss:\t\t\t2.0224\n",
      "\tvalidation loss:\t\t1.9025\n",
      "\tvalidation accuracy:\t\t42.37%\n",
      "\ttotal time elapsed:\t\t1109.079s\n",
      "Epoch 80 took 16.997s\n",
      "\ttraining loss:\t\t\t2.0210\n",
      "\tvalidation loss:\t\t1.8995\n",
      "\tvalidation accuracy:\t\t42.49%\n",
      "\ttotal time elapsed:\t\t1464.037s\n",
      "Epoch 100 took 17.576s\n",
      "\ttraining loss:\t\t\t2.0187\n",
      "\tvalidation loss:\t\t1.8963\n",
      "\tvalidation accuracy:\t\t42.55%\n",
      "\ttotal time elapsed:\t\t1821.586s\n",
      "Epoch 120 took 18.250s\n",
      "\ttraining loss:\t\t\t2.0116\n",
      "\tvalidation loss:\t\t1.8945\n",
      "\tvalidation accuracy:\t\t42.85%\n",
      "\ttotal time elapsed:\t\t2181.796s\n",
      "Epoch 140 took 18.728s\n",
      "\ttraining loss:\t\t\t2.0118\n",
      "\tvalidation loss:\t\t1.8951\n",
      "\tvalidation accuracy:\t\t43.05%\n",
      "\ttotal time elapsed:\t\t2557.260s\n",
      "Epoch 160 took 18.385s\n",
      "\ttraining loss:\t\t\t2.0120\n",
      "\tvalidation loss:\t\t1.9008\n",
      "\tvalidation accuracy:\t\t42.58%\n",
      "\ttotal time elapsed:\t\t2923.986s\n",
      "Epoch 180 took 18.157s\n",
      "\ttraining loss:\t\t\t2.0117\n",
      "\tvalidation loss:\t\t1.8927\n",
      "\tvalidation accuracy:\t\t42.66%\n",
      "\ttotal time elapsed:\t\t3289.185s\n",
      "Abandon ship!\n",
      "\n",
      "TEST PERFORMANCE\n",
      "\tStopped in epoch:\t\t197\n",
      "\tTest loss:\t\t\t1.9004\n",
      "\tTest accuracy:\t\t\t42.42%\n",
      "\n",
      "\n",
      "Split Number 1\n",
      "(12396, 2, 4, 9)\n",
      "Epoch 0 took 18.152s\n",
      "\ttraining loss:\t\t\t2.7656\n",
      "\tvalidation loss:\t\t2.4932\n",
      "\tvalidation accuracy:\t\t24.37%\n",
      "\ttotal time elapsed:\t\t18.446s\n",
      "Epoch 20 took 18.233s\n",
      "\ttraining loss:\t\t\t2.0515\n",
      "\tvalidation loss:\t\t1.9405\n",
      "\tvalidation accuracy:\t\t40.70%\n",
      "\ttotal time elapsed:\t\t391.485s\n"
     ]
    }
   ],
   "source": [
    "archkws = {\n",
    "    'num_filters': 32, 'filter_size': (3, 3),\n",
    "    'pad': 'same', \n",
    "    'pool_size': 2, 'pool': False\n",
    "}\n",
    "arch = lambda input_var: multiconvX #archX_oddfilter_variant(input_var, **archkws)\n",
    "archname = 'multiconvX_lrg' #.format(archkws['num_filters'])\n",
    "run_full_fit(multiconvX, archname)"
   ]
  },
  {
   "cell_type": "markdown",
   "metadata": {},
   "source": [
    "## Data aggregation\n",
    "\n",
    "doesn't need run more than once"
   ]
  },
  {
   "cell_type": "code",
   "execution_count": 2,
   "metadata": {
    "collapsed": true
   },
   "outputs": [],
   "source": [
    "datafilenames = ['0 (with groups)', '1 (with computer)', '2 (with computer)', '3 (with computer)', '4']\n",
    "datafilenames = [os.path.join(datadir, fname + '.csv') for fname in datafilenames]\n",
    "colnames = ['subject', 'color', 'bp', 'wp', 'zet', 'rt']\n",
    "\n",
    "e0 = pd.read_csv(datafilenames[0], names=colnames+['splitno'])\n",
    "e1 = pd.read_csv(datafilenames[1], names=colnames)\n",
    "e2 = pd.read_csv(datafilenames[2], names=colnames)\n",
    "e3 = pd.read_csv(datafilenames[3], names=colnames+['task', 'taskorder', 'session'])\n",
    "e4 = pd.read_csv(datafilenames[4], names=colnames+['timecondition'])\n",
    "Es = [e1, e2, e3, e4]\n",
    "for i, e in enumerate(Es[1:]):\n",
    "    e['subject'] = e['subject'] + Es[i-1].loc[Es[i-1]['subject']<1000, 'subject'].max()\n",
    "\n",
    "A = pd.concat([e[colnames] for e in [e1, e2, e3, e4]])\n",
    "\n",
    "groups = np.arange(len(A))%5 + 1\n",
    "np.random.seed(100001)\n",
    "np.random.shuffle(groups)\n",
    "A['group'] = groups\n",
    "\n",
    "A.to_csv(os.path.join(datadir, '1-4.csv'), encoding='ASCII', header=False, index=False)\n",
    "A.loc[A['subject']<1000, :].to_csv(\n",
    "    os.path.join(datadir, '1-4 (no computer).csv'), \n",
    "    encoding='ASCII', header=False, index=False\n",
    ")"
   ]
  },
  {
   "cell_type": "markdown",
   "metadata": {},
   "source": [
    "# Prototyping Tuning\n",
    "\n",
    "### Pretraining"
   ]
  },
  {
   "cell_type": "code",
   "execution_count": null,
   "metadata": {
    "collapsed": true
   },
   "outputs": [],
   "source": [
    "trainer = DefaultTrainer(stopthresh=100) # default: 125\n",
    "net_list = trainer.train_all(architecture=prototype, data=data, seed=985227)\n",
    "\n",
    "for i, n in enumerate(net_list):\n",
    "    n.save_params(os.path.join(paramsdir, '{} split agg fit exp 1-4'.format(i)))"
   ]
  },
  {
   "cell_type": "code",
   "execution_count": null,
   "metadata": {
    "collapsed": false
   },
   "outputs": [],
   "source": [
    "subresults = []\n",
    "for s in np.unique(Ss):\n",
    "    idx = np.where(Ss==s)[0]\n",
    "    res = results_array[:, idx].mean()\n",
    "    subresults.append(res)\n",
    "bmvs(np.array(subresults), alpha=.95)"
   ]
  },
  {
   "cell_type": "markdown",
   "metadata": {},
   "source": [
    "### Finetuning"
   ]
  },
  {
   "cell_type": "code",
   "execution_count": null,
   "metadata": {
    "collapsed": false,
    "scrolled": true
   },
   "outputs": [],
   "source": [
    "tune_results = np.zeros([40, 5, 5])\n",
    "tuner = FineTuner(stopthresh=25)\n",
    "\n",
    "for i, n in enumerate(net_list):\n",
    "    for j in range(5):\n",
    "        params = L.get_all_param_values(n.net)\n",
    "        subnet = tuner.train_all(architecture=prototype, data=hvhdata, split=j, startparams=params, freeze=True)\n",
    "        subnet.save_params(os.path.join(paramsdir, '{} agg fit exp 1-4 {} tune fit exp 0'.format(i, j)))\n",
    "        \n",
    "        res = subnet.itemized_test_fn(Xs, ys)\n",
    "        for s in np.unique(Ss):\n",
    "            idx = np.where(Ss==s)[0]\n",
    "            tune_results[s, j, i] = res[idx].mean()"
   ]
  },
  {
   "cell_type": "code",
   "execution_count": null,
   "metadata": {
    "collapsed": false
   },
   "outputs": [],
   "source": [
    "# class FineTuner(DefaultTrainer):\n",
    "#     \"\"\"\n",
    "#     Trainer to fine tune networks to individual subjects\n",
    "\n",
    "#     Consider moving freeze, param set functions properly into Network object\n",
    "#     Abstracting split functions and augment in DefaultTrainer would be good too\n",
    "#     \"\"\"\n",
    "\n",
    "#     def train_all(self, architecture, data, split, seed=None, startparams=None, freeze=True, save_params=False):\n",
    "#         if seed:\n",
    "#             np.random.seed(seed)\n",
    "\n",
    "#         D, groups, Xs, ys, Ss = data\n",
    "#         num_splits = len(Xs)\n",
    "#         r = np.tile(np.arange(num_splits), [num_splits, 1])\n",
    "#         r = (r + r.T) % num_splits\n",
    "\n",
    "#         starttime = time.time()\n",
    "#         net = Network(architecture)\n",
    "#         if startparams:\n",
    "#             _layers = L.get_all_layers(net.net)\n",
    "#             L.set_all_param_values(_layers, startparams)\n",
    "#             convlayer, prelulayer = _layers[1:3]\n",
    "#             if freeze:\n",
    "#                 convlayer.params[convlayer.W].remove('trainable')\n",
    "#                 convlayer.params[convlayer.b].remove('trainable')\n",
    "#                 prelulayer.params[prelulayer.alpha].remove('trainable')\n",
    "\n",
    "#         train_idxs = r[split, :3]\n",
    "#         val_idxs = r[split, 3:4]\n",
    "#         test_idxs = r[split, 4:]\n",
    "\n",
    "#         X, y, S = [np.concatenate(np.array(Z)[train_idxs]) for Z in [Xs, ys, Ss]]\n",
    "#         Xv, yv, Sv = [np.concatenate(np.array(Z)[val_idxs]) for Z in [Xs, ys, Ss]]\n",
    "#         Xt, yt, St = [np.concatenate(np.array(Z)[test_idxs]) for Z in [Xs, ys, Ss]]\n",
    "#         X, y = augment((X, y))\n",
    "#         S = np.concatenate([S, S, S, S])\n",
    "#         self.train(net, training_data=(X, y), validation_data=(Xv, yv))\n",
    "#         self.test(net, testing_data=(Xt, yt))\n",
    "#         time_elapsed = time.time() - starttime\n",
    "\n",
    "#         return net"
   ]
  }
 ],
 "metadata": {
  "anaconda-cloud": {},
  "kernelspec": {
   "display_name": "Python [default]",
   "language": "python",
   "name": "python3"
  },
  "language_info": {
   "codemirror_mode": {
    "name": "ipython",
    "version": 3
   },
   "file_extension": ".py",
   "mimetype": "text/x-python",
   "name": "python",
   "nbconvert_exporter": "python",
   "pygments_lexer": "ipython3",
   "version": "3.5.2"
  }
 },
 "nbformat": 4,
 "nbformat_minor": 2
}
