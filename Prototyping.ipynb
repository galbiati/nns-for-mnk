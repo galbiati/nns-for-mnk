{
 "cells": [
  {
   "cell_type": "code",
   "execution_count": null,
   "metadata": {
    "collapsed": true
   },
   "outputs": [],
   "source": [
    "import os\n",
    "import imp\n",
    "import numpy as np\n",
    "import theano\n",
    "import lasagne\n",
    "import loading\n",
    "from training import *\n",
    "from network import *\n",
    "from architectures import *\n",
    "\n",
    "L = lasagne.layers\n",
    "nl = lasagne.nonlinearities\n",
    "T = theano.tensor\n",
    "headdir = os.path.expanduser('~/Google Drive/Bas Zahy Gianni - Games')\n",
    "datafile = os.path.join(headdir, 'Data/0_hvh/Clean/_summaries/model_input_with_groups.csv')\n",
    "resultsdir = os.path.join(headdir, 'Analysis/0_hvh/Loglik/nns')"
   ]
  },
  {
   "cell_type": "code",
   "execution_count": null,
   "metadata": {
    "collapsed": false
   },
   "outputs": [],
   "source": [
    "def default_convnet(input_var=None):\n",
    "    input_shape = (None, 2, 4, 9)\n",
    "    FixLayer = make_FixLayer(input_var)\n",
    "    \n",
    "    input_layer = L.InputLayer(shape=input_shape, input_var=input_var)\n",
    "    network = L.Conv2DLayer(\n",
    "        input_layer, num_filters=32, filter_size=(4,4), pad='full',\n",
    "        nonlinearity=nl.very_leaky_rectify, W=lasagne.init.HeUniform(gain='relu') #GlorotUniform()\n",
    "    )\n",
    "    \n",
    "    network = L.FeaturePoolLayer(network, pool_function=T.sum, pool_size=2)\n",
    "    network = L.DropoutLayer(network, p=.75)\n",
    "    network = L.DenseLayer(\n",
    "        network, num_units=36, \n",
    "        nonlinearity=nl.very_leaky_rectify, W=lasagne.init.HeUniform(gain='relu')\n",
    "    )\n",
    "    network = L.NonlinearityLayer(network, nonlinearity=nl.softmax)\n",
    "    network = FixLayer(network)\n",
    "    \n",
    "    return network\n",
    "\n",
    "net = Network(default_convnet)"
   ]
  },
  {
   "cell_type": "code",
   "execution_count": null,
   "metadata": {
    "collapsed": false,
    "scrolled": false
   },
   "outputs": [],
   "source": [
    "data = loading.default_loader(datafile)\n",
    "trainer = DefaultTrainer()\n",
    "net_list = trainer.train_all(architecture=default_convnet, data=data, seed=985227)"
   ]
  },
  {
   "cell_type": "code",
   "execution_count": null,
   "metadata": {
    "collapsed": false
   },
   "outputs": [],
   "source": [
    "from scipy.stats import bayes_mvs as bmvs\n",
    "bmvs([n.test_err for n in net_list], alpha=.95)"
   ]
  },
  {
   "cell_type": "code",
   "execution_count": null,
   "metadata": {
    "collapsed": false
   },
   "outputs": [],
   "source": [
    "\n",
    "\n",
    "D, groups, Xs, ys, Ss = loading.default_loader(datafile)\n",
    "\n",
    "splitsize = len(Xs)\n",
    "r = np.arange(splitsize)\n",
    "r = np.tile(r, [splitsize, 1])\n",
    "r = r + r.T\n",
    "split_indices = r % splitsize\n",
    "\n",
    "split = 0\n",
    "train_i = split_indices[split, :3]\n",
    "val_i = split_indices[split, 3:4]\n",
    "test_i = split_indices[split, 4:]\n",
    "\n",
    "X, y, S = [np.concatenate(np.array(Zs)[train_i]) for Zs in [Xs, ys, Ss]]\n",
    "Xv, yv, Sv = [np.concatenate(np.array(Zs)[val_i]) for Zs in [Xs, ys, Ss]]\n",
    "Xt, yt, St = [np.concatenate(np.array(Zs)[test_i]) for Zs in [Xs, ys, Ss]]\n",
    "X, y = loading.augment((X, y))\n",
    "S = np.concatenate([S, S, S, S])"
   ]
  },
  {
   "cell_type": "code",
   "execution_count": null,
   "metadata": {
    "collapsed": false
   },
   "outputs": [],
   "source": [
    "np.random.seed(985227)\n",
    "\n",
    "net = Network(default_convnet)\n",
    "trainer = Trainer()\n",
    "\n",
    "trainer.train(net, training_data=(X, y), validation_data=(Xv, yv))\n",
    "err, acc, bats = trainer.test(net, (Xt, yt))"
   ]
  }
 ],
 "metadata": {
  "anaconda-cloud": {},
  "kernelspec": {
   "display_name": "Python [default]",
   "language": "python",
   "name": "python3"
  },
  "language_info": {
   "codemirror_mode": {
    "name": "ipython",
    "version": 3
   },
   "file_extension": ".py",
   "mimetype": "text/x-python",
   "name": "python",
   "nbconvert_exporter": "python",
   "pygments_lexer": "ipython3",
   "version": "3.5.2"
  }
 },
 "nbformat": 4,
 "nbformat_minor": 2
}
