{
 "cells": [
  {
   "cell_type": "code",
   "execution_count": 69,
   "metadata": {
    "collapsed": false
   },
   "outputs": [],
   "source": [
    "import os\n",
    "import imp\n",
    "import numpy as np\n",
    "import theano\n",
    "import lasagne\n",
    "import loading\n",
    "from training import *\n",
    "from network import *\n",
    "from architectures import *\n",
    "\n",
    "L = lasagne.layers\n",
    "nl = lasagne.nonlinearities\n",
    "T = theano.tensor\n",
    "\n",
    "headdir = os.path.expanduser('~/Google Drive/Bas Zahy Gianni - Games')\n",
    "paramsdir = os.path.join(headdir, 'Analysis/0_hvh/Params/nnets/temp')\n",
    "datafile = os.path.join(headdir, 'Data/0_hvh/Clean/_summaries/model_input_with_groups.csv')\n",
    "resultsdir = os.path.join(headdir, 'Analysis/0_hvh/Loglik/nnets')\n",
    "data = loading.default_loader(datafile)"
   ]
  },
  {
   "cell_type": "markdown",
   "metadata": {},
   "source": [
    "## Basic Prototyping"
   ]
  },
  {
   "cell_type": "code",
   "execution_count": 2,
   "metadata": {
    "collapsed": true
   },
   "outputs": [],
   "source": [
    "# CHANGES SINCE PREVIOUS BEST:\n",
    "# - implementation. Now with better abstraction! \n",
    "#     Should have no effect on performance, but dev much easier.\n",
    "# - training algo. Now using Adam instead of SBGD with Nesterov momentum \n",
    "#     mostly just faster convergence...)\n",
    "# - changed activation on conv2d layer to be a pRelu with all units fitted (previously vanilla Relu)\n",
    "# - changed activation on output to be leaky Relu with alpha=.3\n",
    "# - changed initialization on output and conv2d layers to be He with proper func instead of Glorot\n",
    "# - added a \"feature pool\" layer after conv2d. \n",
    "#     This was most impactful; improved performance by ~.05 and reduced overfitting"
   ]
  },
  {
   "cell_type": "code",
   "execution_count": 3,
   "metadata": {
    "collapsed": false
   },
   "outputs": [],
   "source": [
    "prototype = default_convnet\n",
    "net = Network(default_convnet)"
   ]
  },
  {
   "cell_type": "code",
   "execution_count": 4,
   "metadata": {
    "collapsed": false,
    "scrolled": true
   },
   "outputs": [
    {
     "name": "stdout",
     "output_type": "stream",
     "text": [
      "Epoch 0 took 1.547s\n",
      "\ttraining loss:\t\t\t2.9994\n",
      "\tvalidation loss:\t\t2.8461\n",
      "\tvalidation accuracy:\t\t15.53%\n",
      "\ttotal time elapsed:\t\t1.569s\n"
     ]
    },
    {
     "name": "stderr",
     "output_type": "stream",
     "text": [
      "/Users/gianni/anaconda/lib/python3.5/site-packages/numpy/core/_methods.py:59: RuntimeWarning: Mean of empty slice.\n",
      "  warnings.warn(\"Mean of empty slice.\", RuntimeWarning)\n"
     ]
    },
    {
     "name": "stdout",
     "output_type": "stream",
     "text": [
      "Epoch 50 took 1.589s\n",
      "\ttraining loss:\t\t\t2.1766\n",
      "\tvalidation loss:\t\t2.1221\n",
      "\tvalidation accuracy:\t\t34.86%\n",
      "\ttotal time elapsed:\t\t78.623s\n",
      "Epoch 100 took 1.586s\n",
      "\ttraining loss:\t\t\t2.0851\n",
      "\tvalidation loss:\t\t2.0693\n",
      "\tvalidation accuracy:\t\t36.33%\n",
      "\ttotal time elapsed:\t\t151.896s\n",
      "Epoch 150 took 1.377s\n",
      "\ttraining loss:\t\t\t2.0626\n",
      "\tvalidation loss:\t\t2.0521\n",
      "\tvalidation accuracy:\t\t37.11%\n",
      "\ttotal time elapsed:\t\t223.787s\n",
      "Epoch 200 took 1.427s\n",
      "\ttraining loss:\t\t\t2.0516\n",
      "\tvalidation loss:\t\t2.0408\n",
      "\tvalidation accuracy:\t\t37.60%\n",
      "\ttotal time elapsed:\t\t292.880s\n",
      "Epoch 250 took 1.332s\n",
      "\ttraining loss:\t\t\t2.0411\n",
      "\tvalidation loss:\t\t2.0461\n",
      "\tvalidation accuracy:\t\t37.21%\n",
      "\ttotal time elapsed:\t\t362.263s\n",
      "Epoch 300 took 1.359s\n",
      "\ttraining loss:\t\t\t2.0343\n",
      "\tvalidation loss:\t\t2.0318\n",
      "\tvalidation accuracy:\t\t37.60%\n",
      "\ttotal time elapsed:\t\t431.081s\n",
      "Epoch 350 took 1.393s\n",
      "\ttraining loss:\t\t\t2.0131\n",
      "\tvalidation loss:\t\t2.0311\n",
      "\tvalidation accuracy:\t\t37.70%\n",
      "\ttotal time elapsed:\t\t499.718s\n",
      "Epoch 400 took 1.359s\n",
      "\ttraining loss:\t\t\t1.9953\n",
      "\tvalidation loss:\t\t2.0219\n",
      "\tvalidation accuracy:\t\t38.57%\n",
      "\ttotal time elapsed:\t\t568.551s\n",
      "Epoch 450 took 1.343s\n",
      "\ttraining loss:\t\t\t1.9981\n",
      "\tvalidation loss:\t\t2.0228\n",
      "\tvalidation accuracy:\t\t37.99%\n",
      "\ttotal time elapsed:\t\t637.667s\n",
      "Abandon ship!\n",
      "TEST PERFORMANCE\n",
      "\tStopped in epoch:\t\t476\n",
      "\tTest loss:\t\t\t2.1524\n",
      "\tTest accuracy:\t\t\t35.25%\n",
      "Epoch 0 took 1.414s\n",
      "\ttraining loss:\t\t\t3.0204\n",
      "\tvalidation loss:\t\t2.8878\n",
      "\tvalidation accuracy:\t\t13.57%\n",
      "\ttotal time elapsed:\t\t1.434s\n",
      "Epoch 50 took 1.331s\n",
      "\ttraining loss:\t\t\t2.1858\n",
      "\tvalidation loss:\t\t2.2661\n",
      "\tvalidation accuracy:\t\t31.93%\n",
      "\ttotal time elapsed:\t\t70.864s\n",
      "Epoch 100 took 1.348s\n",
      "\ttraining loss:\t\t\t2.0950\n",
      "\tvalidation loss:\t\t2.2203\n",
      "\tvalidation accuracy:\t\t32.71%\n",
      "\ttotal time elapsed:\t\t139.708s\n",
      "Epoch 150 took 1.342s\n",
      "\ttraining loss:\t\t\t2.0624\n",
      "\tvalidation loss:\t\t2.2103\n",
      "\tvalidation accuracy:\t\t33.40%\n",
      "\ttotal time elapsed:\t\t207.725s\n",
      "Epoch 200 took 1.321s\n",
      "\ttraining loss:\t\t\t2.0395\n",
      "\tvalidation loss:\t\t2.1968\n",
      "\tvalidation accuracy:\t\t34.86%\n",
      "\ttotal time elapsed:\t\t276.117s\n",
      "Epoch 250 took 1.409s\n",
      "\ttraining loss:\t\t\t2.0301\n",
      "\tvalidation loss:\t\t2.1895\n",
      "\tvalidation accuracy:\t\t34.47%\n",
      "\ttotal time elapsed:\t\t344.228s\n",
      "Abandon ship!\n",
      "TEST PERFORMANCE\n",
      "\tStopped in epoch:\t\t288\n",
      "\tTest loss:\t\t\t2.1046\n",
      "\tTest accuracy:\t\t\t33.59%\n",
      "Epoch 0 took 1.371s\n",
      "\ttraining loss:\t\t\t3.0150\n",
      "\tvalidation loss:\t\t2.8045\n",
      "\tvalidation accuracy:\t\t15.33%\n",
      "\ttotal time elapsed:\t\t1.394s\n",
      "Epoch 50 took 1.337s\n",
      "\ttraining loss:\t\t\t2.1597\n",
      "\tvalidation loss:\t\t2.1528\n",
      "\tvalidation accuracy:\t\t34.57%\n",
      "\ttotal time elapsed:\t\t70.637s\n",
      "Epoch 100 took 1.331s\n",
      "\ttraining loss:\t\t\t2.0670\n",
      "\tvalidation loss:\t\t2.0941\n",
      "\tvalidation accuracy:\t\t36.62%\n",
      "\ttotal time elapsed:\t\t138.507s\n",
      "Epoch 150 took 1.344s\n",
      "\ttraining loss:\t\t\t2.0589\n",
      "\tvalidation loss:\t\t2.0787\n",
      "\tvalidation accuracy:\t\t36.91%\n",
      "\ttotal time elapsed:\t\t206.182s\n",
      "Epoch 200 took 1.317s\n",
      "\ttraining loss:\t\t\t2.0311\n",
      "\tvalidation loss:\t\t2.0743\n",
      "\tvalidation accuracy:\t\t38.38%\n",
      "\ttotal time elapsed:\t\t273.711s\n",
      "Abandon ship!\n",
      "TEST PERFORMANCE\n",
      "\tStopped in epoch:\t\t229\n",
      "\tTest loss:\t\t\t2.1375\n",
      "\tTest accuracy:\t\t\t33.69%\n",
      "Epoch 0 took 1.363s\n",
      "\ttraining loss:\t\t\t2.9986\n",
      "\tvalidation loss:\t\t2.8557\n",
      "\tvalidation accuracy:\t\t15.82%\n",
      "\ttotal time elapsed:\t\t1.383s\n",
      "Epoch 50 took 1.344s\n",
      "\ttraining loss:\t\t\t2.1631\n",
      "\tvalidation loss:\t\t2.2228\n",
      "\tvalidation accuracy:\t\t33.89%\n",
      "\ttotal time elapsed:\t\t70.617s\n",
      "Epoch 100 took 1.329s\n",
      "\ttraining loss:\t\t\t2.0792\n",
      "\tvalidation loss:\t\t2.1733\n",
      "\tvalidation accuracy:\t\t34.08%\n",
      "\ttotal time elapsed:\t\t138.907s\n",
      "Epoch 150 took 1.359s\n",
      "\ttraining loss:\t\t\t2.0497\n",
      "\tvalidation loss:\t\t2.1669\n",
      "\tvalidation accuracy:\t\t34.67%\n",
      "\ttotal time elapsed:\t\t206.805s\n",
      "Epoch 200 took 1.575s\n",
      "\ttraining loss:\t\t\t2.0320\n",
      "\tvalidation loss:\t\t2.1626\n",
      "\tvalidation accuracy:\t\t34.38%\n",
      "\ttotal time elapsed:\t\t275.799s\n",
      "Epoch 250 took 1.349s\n",
      "\ttraining loss:\t\t\t2.0135\n",
      "\tvalidation loss:\t\t2.1548\n",
      "\tvalidation accuracy:\t\t33.79%\n",
      "\ttotal time elapsed:\t\t350.815s\n",
      "Epoch 300 took 1.342s\n",
      "\ttraining loss:\t\t\t2.0117\n",
      "\tvalidation loss:\t\t2.1510\n",
      "\tvalidation accuracy:\t\t34.47%\n",
      "\ttotal time elapsed:\t\t419.201s\n",
      "Epoch 350 took 1.342s\n",
      "\ttraining loss:\t\t\t1.9988\n",
      "\tvalidation loss:\t\t2.1458\n",
      "\tvalidation accuracy:\t\t34.96%\n",
      "\ttotal time elapsed:\t\t487.538s\n",
      "Epoch 400 took 1.336s\n",
      "\ttraining loss:\t\t\t1.9933\n",
      "\tvalidation loss:\t\t2.1329\n",
      "\tvalidation accuracy:\t\t34.96%\n",
      "\ttotal time elapsed:\t\t555.609s\n",
      "Abandon ship!\n",
      "TEST PERFORMANCE\n",
      "\tStopped in epoch:\t\t428\n",
      "\tTest loss:\t\t\t2.1162\n",
      "\tTest accuracy:\t\t\t36.91%\n",
      "Epoch 0 took 1.410s\n",
      "\ttraining loss:\t\t\t2.9825\n",
      "\tvalidation loss:\t\t2.8918\n",
      "\tvalidation accuracy:\t\t12.40%\n",
      "\ttotal time elapsed:\t\t1.431s\n",
      "Epoch 50 took 1.370s\n",
      "\ttraining loss:\t\t\t2.1921\n",
      "\tvalidation loss:\t\t2.2087\n",
      "\tvalidation accuracy:\t\t33.50%\n",
      "\ttotal time elapsed:\t\t70.936s\n",
      "Epoch 100 took 1.350s\n",
      "\ttraining loss:\t\t\t2.0992\n",
      "\tvalidation loss:\t\t2.1616\n",
      "\tvalidation accuracy:\t\t34.47%\n",
      "\ttotal time elapsed:\t\t146.070s\n",
      "Epoch 150 took 1.321s\n",
      "\ttraining loss:\t\t\t2.0683\n",
      "\tvalidation loss:\t\t2.1475\n",
      "\tvalidation accuracy:\t\t35.06%\n",
      "\ttotal time elapsed:\t\t214.674s\n",
      "Epoch 200 took 1.337s\n",
      "\ttraining loss:\t\t\t2.0658\n",
      "\tvalidation loss:\t\t2.1511\n",
      "\tvalidation accuracy:\t\t35.35%\n",
      "\ttotal time elapsed:\t\t286.104s\n",
      "Epoch 250 took 1.321s\n",
      "\ttraining loss:\t\t\t2.0485\n",
      "\tvalidation loss:\t\t2.1417\n",
      "\tvalidation accuracy:\t\t34.96%\n",
      "\ttotal time elapsed:\t\t354.099s\n",
      "Abandon ship!\n",
      "TEST PERFORMANCE\n",
      "\tStopped in epoch:\t\t260\n",
      "\tTest loss:\t\t\t2.0915\n",
      "\tTest accuracy:\t\t\t35.45%\n",
      "OVERALL RESULTS\n",
      "\tAverage NLL:\t\t2.120\n",
      "\tCred. Interval:\t\t[2.090, 2.151]\n",
      "\tTotal time:\t\t2352.77\n"
     ]
    }
   ],
   "source": [
    "trainer = DefaultTrainer(stopthresh=100) # default: 125\n",
    "net_list = trainer.train_all(architecture=default_convnet, data=data, seed=985227)"
   ]
  },
  {
   "cell_type": "code",
   "execution_count": 7,
   "metadata": {
    "collapsed": false
   },
   "outputs": [],
   "source": [
    "for i, n in enumerate(net_list):\n",
    "    n.save_params(os.path.join(paramsdir, '{} split agg fit'.format(i)))"
   ]
  },
  {
   "cell_type": "markdown",
   "metadata": {},
   "source": [
    "## Subject finetuning prototyping\n",
    "\n",
    "TODO:\n",
    "\n",
    "try saving parameters from above and doing a reload/partial freeze"
   ]
  },
  {
   "cell_type": "code",
   "execution_count": 70,
   "metadata": {
    "collapsed": false
   },
   "outputs": [],
   "source": [
    "# TODO: save traces\n",
    "# TODO: keep traces from one net to another?? or save separately and append...\n",
    "\n",
    "# set fixed params with easy-access dicts, because we don't hate ourselves\n",
    "trainer_settings = {\n",
    "    'stopthresh':25,\n",
    "    'update_args':{'learning_rate':.00001}\n",
    "}\n",
    "\n",
    "trainer_args = {\n",
    "    'architecture':prototype,\n",
    "    'seed':985227,\n",
    "}\n",
    "\n",
    "results = []\n",
    "for i, net in enumerate(net_list):\n",
    "    result = []\n",
    "    PARAMS = L.get_all_param_values(net.net)\n",
    "    for subno in range(40):\n",
    "        subject_Xs = data[2]\n",
    "        subject_ys = data[3]\n",
    "        subject_Ss = data[4]\n",
    "        S0 = [np.where(s==subno)[0] for s in subject_Ss]\n",
    "        X0 = [subject_Xs[i][s] for i, s in enumerate(S0)]\n",
    "        y0 = [subject_ys[i][s] for i, s in enumerate(S0)]\n",
    "        sub_data = (data[0], data[1], X0, y0, S0)\n",
    "        print('\\nSUBJECT {}, NMOVES {} per split\\n'.format(subno, len(S0[0])))\n",
    "\n",
    "        batchsize=len(S0[0])//2\n",
    "        sub_trainer = FineTuner(batchsize=batchsize, **trainer_settings)\n",
    "        sub_net = sub_trainer.train_all(data=sub_data, startparams=PARAMS, **trainer_args)\n",
    "        result.append(sub_net.test_err)\n",
    "        sub_net.save_params(os.path.join(paramsdir, '{} split {} sub tune fit'.format(i, subno)))\n",
    "        # add trace saving here\n",
    "        \n",
    "        \n",
    "    results.append(result)\n",
    "\n",
    "res = np.array(results).T\n",
    "np.savetxt(os.path.join(resultsdir, 'nlls.txt'), res, fmt='%.18f', delimiter=',')"
   ]
  },
  {
   "cell_type": "code",
   "execution_count": 65,
   "metadata": {
    "collapsed": false
   },
   "outputs": [
    {
     "data": {
      "image/png": "[encoded data removed]",
      "text/plain": [
       "<matplotlib.figure.Figure at 0x12746d780>"
      ]
     },
     "metadata": {},
     "output_type": "display_data"
    }
   ],
   "source": [
    "mos = [bmvs(res[i, :]) for i in range(res.shape[0])]\n",
    "means = np.array([m[0][0] for m in mos])\n",
    "lbs = np.array([m[0][1][0] for m in mos])\n",
    "ubs = np.array([m[0][1][1] for m in mos])\n",
    "idx = np.argsort(means)\n",
    "plt.fill_between(x=np.arange(40), y1=lbs[idx], y2=ubs[idx], alpha=.2)\n",
    "plt.plot(means[idx])\n",
    "plt.setp(plt.gca(), xlabel='Ranked Subject', ylabel='NLL')\n",
    "sns.despine()"
   ]
  },
  {
   "cell_type": "code",
   "execution_count": 66,
   "metadata": {
    "collapsed": false
   },
   "outputs": [
    {
     "data": {
      "image/png": "[encoded data removed]",
      "text/plain": [
       "<matplotlib.figure.Figure at 0x12771cd30>"
      ]
     },
     "metadata": {},
     "output_type": "display_data"
    }
   ],
   "source": [
    "plt.hist(res.flatten(), bins = np.arange(1, 4, 1/8))\n",
    "plt.setp(plt.gca(), xlabel='NLL', ylabel='# Fits')\n",
    "sns.despine()"
   ]
  },
  {
   "cell_type": "code",
   "execution_count": 71,
   "metadata": {
    "collapsed": false
   },
   "outputs": [
    {
     "data": {
      "text/plain": [
       "(Mean(statistic=2.0297389663420167, minmax=(1.9754359377545521, 2.0840419949294815)),\n",
       " Variance(statistic=0.21815111779251639, minmax=(0.18451519497299468, 0.25678486268659811)),\n",
       " Std_dev(statistic=0.46647415702644379, minmax=(0.42955231924993104, 0.506739442600039)))"
      ]
     },
     "execution_count": 71,
     "metadata": {},
     "output_type": "execute_result"
    }
   ],
   "source": [
    "bmvs(np.array(res).flatten())"
   ]
  },
  {
   "cell_type": "markdown",
   "metadata": {},
   "source": [
    "## Autoencoder prototyping"
   ]
  },
  {
   "cell_type": "code",
   "execution_count": null,
   "metadata": {
    "collapsed": true
   },
   "outputs": [],
   "source": [
    "def autoencoder_prototype(input_var=None):\n",
    "    input_shape = (None, 2, 4, 9)\n",
    "    inpuL.InputLayer = L.InputLayer(shape=input_shape, input_var=input_var)\n",
    "    network = L.COnv2DLayer(\n",
    "        input_layer, num_filters=32, filter_size=(4, 4), pad='full',\n",
    "        nonlinearity=nl.identity\n",
    "    )\n",
    "    L.ParametricRectifierLayerrLayeshared_axes=Rectifier(network, shL.FeaturePoolLayerl')\n",
    "    network = L.FeaturePoolLayer(network, pool_functioL.DropoutLayerm, pool_size=2)\n",
    "    network = L.DropoutLayer(network, p=.75)\n",
    "    network = L.DenseLayer(\n",
    "        network, num_units=72,\n",
    "        nonlinearity=nl.very_leaky_rectify, W=lasagne.init.HeUniform(gain='relu')\n",
    "    )\n",
    "    network = L.ReshapeLayer(\n",
    "        network, shape=(-1, 2, 4, 9)\n",
    "    )\n",
    "    return network"
   ]
  },
  {
   "cell_type": "code",
   "execution_count": null,
   "metadata": {
    "collapsed": true
   },
   "outputs": [],
   "source": [
    "class Autoencoder(Network):\n",
    "    \"\"\"\n",
    "    Overwrites loss functions for training an autoencoder instead\n",
    "    of softmax output classifier\n",
    "    \"\"\"\n",
    "    def objectives(self):\n",
    "        \"\"\"Must define: loss, test_loss, test_acc\"\"\"\n",
    "        self.loss = lasagne.objectives.squared_error(self.prediction, self.target_var)\n",
    "        self.loss = self.loss.mean()\n",
    "        self.test_loss = lasagne.objectives.squared_error(self.test_prediction, self.target_var)\n",
    "        self.test_loss = self.test_loss.mean()\n",
    "        self.test_acc = T.mean(T.abs(self.test_prediction - self.target_var))\n",
    "        return None\n",
    "\n",
    "# class AutoTrainer(DefaultTrainer):\n",
    "#     \"\"\"\n",
    "#     Overwrites training functions for training an autoencoder instead\n",
    "#     of softmax output classifier\n",
    "#     \"\"\"\n",
    "#     pass\n",
    "\n",
    "# Can actually pass data to existing trainer by replacing ys with a copy of Xs!\n",
    "\n",
    "class LadderNet(Network):\n",
    "    \"\"\"\n",
    "    Loads conv layer params from autoencoder save and sets them on current classifier\n",
    "    Needs overwrite of self.build() that loads conv2d params, then sets them untrainable.\n",
    "    \"\"\"\n",
    "    def __init__(self, architecture, paramsfile):\n",
    "        self.paramsfile = paramsfile\n",
    "        super(LadderNet, self).__init__(architecture)\n",
    "    \n",
    "    def build(self):\n",
    "        super(LadderNet, self).build()\n",
    "        \n",
    "        # Finish this soon!\n",
    "        return None\n",
    "    \n",
    "    def load_conv_params(self):\n",
    "        with np.load(paramsfile) as loaded:\n",
    "#             L."
   ]
  },
  {
   "cell_type": "code",
   "execution_count": null,
   "metadata": {
    "collapsed": false
   },
   "outputs": [],
   "source": [
    "from scipy.stats import bayes_mvs as bmvs\n",
    "bmvs([n.test_err for n in net_list], alpha=.95)"
   ]
  },
  {
   "cell_type": "code",
   "execution_count": null,
   "metadata": {
    "collapsed": false
   },
   "outputs": [],
   "source": [
    "\n",
    "\n",
    "D, groups, Xs, ys, Ss = loading.default_loader(datafile)\n",
    "\n",
    "splitsize = len(Xs)\n",
    "r = np.arange(splitsize)\n",
    "r = np.tile(r, [splitsize, 1])\n",
    "r = r + r.T\n",
    "split_indices = r % splitsize\n",
    "\n",
    "split = 0\n",
    "train_i = split_indices[split, :3]\n",
    "val_i = split_indices[split, 3:4]\n",
    "test_i = split_indices[split, 4:]\n",
    "\n",
    "X, y, S = [np.concatenate(np.array(Zs)[train_i]) for Zs in [Xs, ys, Ss]]\n",
    "Xv, yv, Sv = [np.concatenate(np.array(Zs)[val_i]) for Zs in [Xs, ys, Ss]]\n",
    "Xt, yt, St = [np.concatenate(np.array(Zs)[test_i]) for Zs in [Xs, ys, Ss]]\n",
    "X, y = loading.augment((X, y))\n",
    "S = np.concatenate([S, S, S, S])"
   ]
  },
  {
   "cell_type": "code",
   "execution_count": null,
   "metadata": {
    "collapsed": false
   },
   "outputs": [],
   "source": [
    "np.random.seed(985227)\n",
    "\n",
    "net = Network(default_convnet)\n",
    "trainer = Trainer()\n",
    "\n",
    "trainer.train(net, training_data=(X, y), validation_data=(Xv, yv))\n",
    "err, acc, bats = trainer.test(net, (Xt, yt))"
   ]
  }
 ],
 "metadata": {
  "anaconda-cloud": {},
  "kernelspec": {
   "display_name": "Python [default]",
   "language": "python",
   "name": "python3"
  },
  "language_info": {
   "codemirror_mode": {
    "name": "ipython",
    "version": 3
   },
   "file_extension": ".py",
   "mimetype": "text/x-python",
   "name": "python",
   "nbconvert_exporter": "python",
   "pygments_lexer": "ipython3",
   "version": "3.5.2"
  }
 },
 "nbformat": 4,
 "nbformat_minor": 2
}
